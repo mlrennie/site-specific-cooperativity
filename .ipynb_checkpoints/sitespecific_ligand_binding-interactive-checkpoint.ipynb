{
 "cells": [
  {
   "cell_type": "markdown",
   "metadata": {},
   "source": [
    "# 1. Site-specific Ligand Binding"
   ]
  },
  {
   "cell_type": "markdown",
   "metadata": {},
   "source": [
    "## Computing the states with binary vectors\n",
    "\n",
    "Given a macromolecule with multiple, potentially interacting, ligand binding sites we would like to represent these states in a systematic way."
   ]
  },
  {
   "cell_type": "markdown",
   "metadata": {},
   "source": [
    "Firstly we look at how many different *combinations* of bound ligand can arise. This gives some idea of the potential complexity of the system.\n",
    "\n",
    "**Use the slider below to toggle the number of sites (**n_sites**):**"
   ]
  },
  {
   "cell_type": "code",
   "execution_count": 2,
   "metadata": {},
   "outputs": [
    {
     "data": {
      "application/vnd.jupyter.widget-view+json": {
       "model_id": "745a989821ac43b089995766775685e3",
       "version_major": 2,
       "version_minor": 0
      },
      "text/plain": [
       "interactive(children=(IntSlider(value=5, description='n_sites', max=10, min=1), Output()), _dom_classes=('widg…"
      ]
     },
     "metadata": {},
     "output_type": "display_data"
    }
   ],
   "source": [
    "from ipywidgets import interact, interactive, fixed, interact_manual\n",
    "import ipywidgets as widgets\n",
    "from IPython.display import display\n",
    "import scipy.special\n",
    "\n",
    "def num_lig_states(n_sites):\n",
    "    print('The total number of liganded states for',\n",
    "          n_sites,'sites is: ',2**n_sites,'\\n')\n",
    "    for i in range(n_sites+1):\n",
    "        print('The number of states with',i,\n",
    "              'ligands bound is:',int(scipy.special.binom(n_sites, i)))\n",
    "\n",
    "interactive(num_lig_states,n_sites=(1,10,1))"
   ]
  },
  {
   "cell_type": "markdown",
   "metadata": {},
   "source": [
    "To uniquely represent the liganded states, it is intuitive to use a binary vector (or string), where $0$ represents an unoccupied site and $1$ represents an occupied sites. \n",
    "\n",
    "The binary strings for all liganded states, grouped by stoichiometry, is computed below."
   ]
  },
  {
   "cell_type": "code",
   "execution_count": 3,
   "metadata": {},
   "outputs": [
    {
     "data": {
      "application/vnd.jupyter.widget-view+json": {
       "model_id": "71a80f7b9dab4cf7aedece4faebd41cf",
       "version_major": 2,
       "version_minor": 0
      },
      "text/plain": [
       "interactive(children=(IntSlider(value=5, description='n_sites', max=10, min=1), Output()), _dom_classes=('widg…"
      ]
     },
     "metadata": {},
     "output_type": "display_data"
    }
   ],
   "source": [
    "import itertools\n",
    "\n",
    "def represent_states(n_sites):\n",
    "    all_states = [''.join(seq) for seq in \n",
    "                  itertools.product('01', repeat=n_sites)]\n",
    "    \n",
    "    grouped_states = [[] for i in range(n_sites+1)] # initialize list\n",
    "\n",
    "    for state in all_states:                        # count number\n",
    "        n_ligands = state.count('1')                # of occupied sites\n",
    "        grouped_states[n_ligands].append(state)\n",
    "        \n",
    "    [i.reverse() for i in grouped_states]           # swap order\n",
    "\n",
    "    for i,states in enumerate(grouped_states):      # print state vectors\n",
    "        print('States with',i,'ligands bound:')\n",
    "        print(states,'\\n')\n",
    "    \n",
    "interactive(represent_states,n_sites=(1,10,1))"
   ]
  },
  {
   "cell_type": "markdown",
   "metadata": {},
   "source": [
    "## Cyclic symmetry\n",
    "One of the advantages of binary representation is that it is straightforward to apply symmetry. For example a cyclic protein oligomer with one ligand binding site per subunit. Two states are identical if their binary representations are equivalent under cyclic permutation.\n",
    "\n",
    "This is done computationally below (using a brute force approach):"
   ]
  },
  {
   "cell_type": "code",
   "execution_count": 4,
   "metadata": {},
   "outputs": [
    {
     "data": {
      "application/vnd.jupyter.widget-view+json": {
       "model_id": "35862a8df49d40438dacf97333c654b9",
       "version_major": 2,
       "version_minor": 0
      },
      "text/plain": [
       "interactive(children=(IntSlider(value=5, description='n_sites', max=10, min=1), Output()), _dom_classes=('widg…"
      ]
     },
     "metadata": {},
     "output_type": "display_data"
    }
   ],
   "source": [
    "from pprint import pprint\n",
    "\n",
    "# function that applies cyclic symmetry to a binary vector\n",
    "def cycle_elements(l, n):\n",
    "    '''Cycle the elements of a list, l, from right to left by n spaces'''\n",
    "    return l[n:] + l[:n]\n",
    "\n",
    "def represent_cyclic_states(n_sites):\n",
    "\n",
    "    all_states = [''.join(seq) for seq in \n",
    "                  itertools.product('01', repeat=n_sites)]\n",
    "    \n",
    "    grouped_states = [[] for i in range(n_sites+1)] # initialize list\n",
    "\n",
    "    for state in all_states:                        # count number\n",
    "        n_ligands = state.count('1')                # of occupied sites\n",
    "        grouped_states[n_ligands].append(state)\n",
    "        \n",
    "    [i.reverse() for i in grouped_states]           # swap order\n",
    "    \n",
    "    cyclic_states = [[] for i in range(n_sites+1)]\n",
    "    \n",
    "    for i,states in enumerate(grouped_states):\n",
    "        \n",
    "        # create a copy as the base for a cyclic list\n",
    "        dup_states = states.copy()\n",
    "        \n",
    "        # cycle through states with the same number of ligands\n",
    "        # bound until all states have been accounted for\n",
    "        while(dup_states != []):\n",
    "            degen = 1\n",
    "            k = 1\n",
    "            perm_state = []\n",
    "            \n",
    "            # cycle through symmetry-equivalent states \n",
    "            # until returning to the start\n",
    "            while(dup_states[0] != perm_state):\n",
    "                perm_state = cycle_elements(dup_states[0],k)\n",
    "                \n",
    "                # if the cyclic permutation is within the list of states\n",
    "                # account for it by removing it and adding degeneracy\n",
    "                if(perm_state in dup_states[1:]):\n",
    "                    degen = degen + 1\n",
    "                    dup_states.remove(perm_state)\n",
    "                k = k + 1\n",
    "            \n",
    "            # add the state that is to be consider the non-redundant state\n",
    "            # to the cyclic states list and remove it from the original list\n",
    "            cyclic_states[i].append([dup_states[0],degen])\n",
    "            del(dup_states[0])\n",
    "    pprint(cyclic_states)\n",
    "\n",
    "interactive(represent_cyclic_states,n_sites=(1,10,1))"
   ]
  },
  {
   "cell_type": "markdown",
   "metadata": {},
   "source": [
    "The non-redundant vector and degeneracy (number of equivalent states) for each state is given in the output above."
   ]
  }
 ],
 "metadata": {
  "kernelspec": {
   "display_name": "Python 3",
   "language": "python",
   "name": "python3"
  },
  "language_info": {
   "codemirror_mode": {
    "name": "ipython",
    "version": 3
   },
   "file_extension": ".py",
   "mimetype": "text/x-python",
   "name": "python",
   "nbconvert_exporter": "python",
   "pygments_lexer": "ipython3",
   "version": "3.7.1"
  },
  "widgets": {
   "application/vnd.jupyter.widget-state+json": {
    "state": {
     "002faf5377974bbc9b101b4ca7dc954f": {
      "model_module": "@jupyter-widgets/base",
      "model_module_version": "1.1.0",
      "model_name": "LayoutModel",
      "state": {}
     },
     "004c4d991bfe482983f230d394f6c79e": {
      "model_module": "@jupyter-widgets/base",
      "model_module_version": "1.1.0",
      "model_name": "LayoutModel",
      "state": {}
     },
     "037757297abe4b99b45a70398dc2140f": {
      "model_module": "@jupyter-widgets/controls",
      "model_module_version": "1.4.0",
      "model_name": "SliderStyleModel",
      "state": {
       "description_width": ""
      }
     },
     "05302e2d695945c88c806b516c84cbf1": {
      "model_module": "@jupyter-widgets/controls",
      "model_module_version": "1.4.0",
      "model_name": "DescriptionStyleModel",
      "state": {
       "description_width": ""
      }
     },
     "0597abbe7e024aabae5cc6b1c95ae410": {
      "model_module": "@jupyter-widgets/output",
      "model_module_version": "1.0.0",
      "model_name": "OutputModel",
      "state": {
       "layout": "IPY_MODEL_b554693844144a3b96787baeb4011824",
       "outputs": [
        {
         "name": "stdout",
         "output_type": "stream",
         "text": "['000', '001', '010', '011', '100', '101', '110', '111']\n"
        }
       ]
      }
     },
     "05d2720badff41d2b3522e65bcc390c5": {
      "model_module": "@jupyter-widgets/base",
      "model_module_version": "1.1.0",
      "model_name": "LayoutModel",
      "state": {}
     },
     "05dc0f5e94994b878d73810a92135f42": {
      "model_module": "@jupyter-widgets/base",
      "model_module_version": "1.1.0",
      "model_name": "LayoutModel",
      "state": {}
     },
     "07f3b713cc9f4a08a2e39d619b0caf0d": {
      "model_module": "@jupyter-widgets/base",
      "model_module_version": "1.1.0",
      "model_name": "LayoutModel",
      "state": {}
     },
     "0ba33dcb94314cad9585e3809e408a7a": {
      "model_module": "@jupyter-widgets/base",
      "model_module_version": "1.1.0",
      "model_name": "LayoutModel",
      "state": {}
     },
     "1027207e13fc427098d9793df2693316": {
      "model_module": "@jupyter-widgets/base",
      "model_module_version": "1.1.0",
      "model_name": "LayoutModel",
      "state": {}
     },
     "11b8c70fd63e4ed1996a397b98277415": {
      "model_module": "@jupyter-widgets/controls",
      "model_module_version": "1.4.0",
      "model_name": "SliderStyleModel",
      "state": {
       "description_width": ""
      }
     },
     "11ce91b7674f49a4bffe4138dd3a8e6c": {
      "model_module": "@jupyter-widgets/controls",
      "model_module_version": "1.4.0",
      "model_name": "IntSliderModel",
      "state": {
       "description": "n_sites",
       "layout": "IPY_MODEL_9a88db19b2554db39bd33566e8a3bcb3",
       "max": 10,
       "min": 1,
       "style": "IPY_MODEL_6ec7be9ab38942348c089281fb4dc328",
       "value": 5
      }
     },
     "123944530bea437b9b776d0830dc5ed5": {
      "model_module": "@jupyter-widgets/output",
      "model_module_version": "1.0.0",
      "model_name": "OutputModel",
      "state": {
       "layout": "IPY_MODEL_8e0854bf11d34d3183acd9a2bb5aa39d",
       "outputs": [
        {
         "name": "stdout",
         "output_type": "stream",
         "text": "[[['0000000', 1]], [['1000000', 7]], [['1100000', 7], ['1010000', 7], ['1001000', 7]], [['1110000', 7], ['1101000', 7], ['1100100', 7], ['1100010', 7], ['1010100', 7]], [['1111000', 7], ['1110100', 7], ['1110010', 7], ['1101100', 7], ['1101010', 7]], [['1111100', 7], ['1111010', 7], ['1110110', 7]], [['1111110', 7]], [['1111111', 1]]]\n"
        }
       ]
      }
     },
     "1640c7e1bae84533a1fd96ef7aa75296": {
      "model_module": "@jupyter-widgets/controls",
      "model_module_version": "1.4.0",
      "model_name": "IntSliderModel",
      "state": {
       "description": "n_sites",
       "layout": "IPY_MODEL_05d2720badff41d2b3522e65bcc390c5",
       "max": 10,
       "min": 1,
       "style": "IPY_MODEL_88599c006f6c4f2898886be87fd5946a",
       "value": 6
      }
     },
     "1918800b221640e6985a4f1aeb4da2d2": {
      "model_module": "@jupyter-widgets/controls",
      "model_module_version": "1.4.0",
      "model_name": "TextModel",
      "state": {
       "description": "B",
       "layout": "IPY_MODEL_3cdca0260cb14366906ffd6ed6411757",
       "style": "IPY_MODEL_f79b97aca8844d6b90f45f3a0ac19ee9",
       "value": "100100000000"
      }
     },
     "19ac5bff1c5241aa91ec7fbac7bc0be4": {
      "model_module": "@jupyter-widgets/controls",
      "model_module_version": "1.4.0",
      "model_name": "IntSliderModel",
      "state": {
       "description": "n_sites",
       "layout": "IPY_MODEL_f92e463e4b494b389848042dbcac7539",
       "max": 10,
       "min": 1,
       "style": "IPY_MODEL_4aa3cafc185c4706a470a95540b6bbce",
       "value": 5
      }
     },
     "1bf31b44d61e4d1cafc5bf3ef634c69b": {
      "model_module": "@jupyter-widgets/base",
      "model_module_version": "1.1.0",
      "model_name": "LayoutModel",
      "state": {}
     },
     "1d472f931d01487991719d0675316cb6": {
      "model_module": "@jupyter-widgets/output",
      "model_module_version": "1.0.0",
      "model_name": "OutputModel",
      "state": {
       "layout": "IPY_MODEL_9e90a89e222346bbb892f1481293163e",
       "outputs": [
        {
         "name": "stdout",
         "output_type": "stream",
         "text": "For computational constraints please keep length of vector(total number of sites) less than or equal to 10.\nFor longer vectors please download the notebook and run locallyor contact martinlrennie@gmail.com.\n"
        }
       ]
      }
     },
     "1dba15be24904f689ec2ce6f8a47eeec": {
      "model_module": "@jupyter-widgets/base",
      "model_module_version": "1.1.0",
      "model_name": "LayoutModel",
      "state": {}
     },
     "1f7053556c304b89ad992199fa3a23c3": {
      "model_module": "@jupyter-widgets/controls",
      "model_module_version": "1.4.0",
      "model_name": "DescriptionStyleModel",
      "state": {
       "description_width": ""
      }
     },
     "1f8386d1a04b4752a487280bea8b7112": {
      "model_module": "@jupyter-widgets/controls",
      "model_module_version": "1.4.0",
      "model_name": "SliderStyleModel",
      "state": {
       "description_width": ""
      }
     },
     "20323ffc562e415da8131106e963bb56": {
      "model_module": "@jupyter-widgets/controls",
      "model_module_version": "1.4.0",
      "model_name": "SliderStyleModel",
      "state": {
       "description_width": ""
      }
     },
     "2047ab30d6d8428ebc72939f68782b71": {
      "model_module": "@jupyter-widgets/controls",
      "model_module_version": "1.4.0",
      "model_name": "DescriptionStyleModel",
      "state": {
       "description_width": ""
      }
     },
     "2112d47e7be6462082e547f87b8daf42": {
      "model_module": "@jupyter-widgets/controls",
      "model_module_version": "1.4.0",
      "model_name": "DescriptionStyleModel",
      "state": {
       "description_width": ""
      }
     },
     "21b0b67ca19647eca47af1ed37949b94": {
      "model_module": "@jupyter-widgets/controls",
      "model_module_version": "1.4.0",
      "model_name": "VBoxModel",
      "state": {
       "_dom_classes": [
        "widget-interact"
       ],
       "children": [
        "IPY_MODEL_af3a062183c24855befaecc867b26e02",
        "IPY_MODEL_eaae7edc8da9482798bef810ef765c89"
       ],
       "layout": "IPY_MODEL_4b92d58f543945f3a9c6971b2151346f"
      }
     },
     "21e4a459eeed40ba99e827618b299e8d": {
      "model_module": "@jupyter-widgets/controls",
      "model_module_version": "1.4.0",
      "model_name": "DescriptionStyleModel",
      "state": {
       "description_width": ""
      }
     },
     "226d9fe919374317a8c85bda8323bd14": {
      "model_module": "@jupyter-widgets/controls",
      "model_module_version": "1.4.0",
      "model_name": "SliderStyleModel",
      "state": {
       "description_width": ""
      }
     },
     "2521c23de11a4d98a9274cdaac2a1262": {
      "model_module": "@jupyter-widgets/controls",
      "model_module_version": "1.4.0",
      "model_name": "VBoxModel",
      "state": {
       "_dom_classes": [
        "widget-interact"
       ],
       "children": [
        "IPY_MODEL_71f7052ecbbb403f8d215d36d3e095ed",
        "IPY_MODEL_2bad335027e241d89b5d72eaac0ebef1"
       ],
       "layout": "IPY_MODEL_dc8ca7d7fd8d4731b170b6bd96b23229"
      }
     },
     "25471cd0296142b79a5326a707b06855": {
      "model_module": "@jupyter-widgets/output",
      "model_module_version": "1.0.0",
      "model_name": "OutputModel",
      "state": {
       "layout": "IPY_MODEL_d76838712cb342df8e4e0727c38b92a8",
       "outputs": [
        {
         "data": {
          "text/latex": "$\\displaystyle [M_{101}] = \\alpha_{101}K_{100}[L_{1}]K_{001}[L_{3}][M_{000}]$",
          "text/plain": "<IPython.core.display.Math object>"
         },
         "metadata": {},
         "output_type": "display_data"
        }
       ]
      }
     },
     "265bd419c2f2434985197eae6608e1ee": {
      "model_module": "@jupyter-widgets/controls",
      "model_module_version": "1.4.0",
      "model_name": "VBoxModel",
      "state": {
       "_dom_classes": [
        "widget-interact"
       ],
       "children": [
        "IPY_MODEL_8b453a001d1142db83ce85b3b87b799d",
        "IPY_MODEL_84c612aa3bfc4c86b659f8bfb7f7f977"
       ],
       "layout": "IPY_MODEL_ad9963543d1947b8b2a49290a636f7ea"
      }
     },
     "2900ac5f727a46018f43223354935df0": {
      "model_module": "@jupyter-widgets/base",
      "model_module_version": "1.1.0",
      "model_name": "LayoutModel",
      "state": {}
     },
     "290674df674a4007a529e29ed2b0fa5d": {
      "model_module": "@jupyter-widgets/output",
      "model_module_version": "1.0.0",
      "model_name": "OutputModel",
      "state": {
       "layout": "IPY_MODEL_cfd030d159b2443eb34f75844a351778",
       "outputs": [
        {
         "name": "stdout",
         "output_type": "stream",
         "text": "For computational constraints please keep length of vector(total number of sites) less than or equal to 10. For longer vectors please download the notebook and run locallyor contact martinlrennie@gmail.com.\n"
        }
       ]
      }
     },
     "2a5c7758288d421dabec5d37a32156b7": {
      "model_module": "@jupyter-widgets/controls",
      "model_module_version": "1.4.0",
      "model_name": "SliderStyleModel",
      "state": {
       "description_width": ""
      }
     },
     "2ad15c47cb344916ab33e3e358cff55e": {
      "model_module": "@jupyter-widgets/controls",
      "model_module_version": "1.4.0",
      "model_name": "IntSliderModel",
      "state": {
       "description": "n_sites",
       "layout": "IPY_MODEL_d5d0375f5d1b49ad995a91143ea519a1",
       "max": 10,
       "min": 1,
       "style": "IPY_MODEL_65fc25e53d1042ef95942cdc1570ff2f",
       "value": 4
      }
     },
     "2bad335027e241d89b5d72eaac0ebef1": {
      "model_module": "@jupyter-widgets/output",
      "model_module_version": "1.0.0",
      "model_name": "OutputModel",
      "state": {
       "layout": "IPY_MODEL_86874f41326946d185c4da6c334d7f40",
       "outputs": [
        {
         "name": "stdout",
         "output_type": "stream",
         "text": "States with 0 ligands bound:\n"
        },
        {
         "ename": "AttributeError",
         "evalue": "'str' object has no attribute 'write'",
         "output_type": "error",
         "traceback": [
          "\u001b[0;31m---------------------------------------------------------------------------\u001b[0m",
          "\u001b[0;31mAttributeError\u001b[0m                            Traceback (most recent call last)",
          "\u001b[0;32m/anaconda3/lib/python3.7/site-packages/ipywidgets/widgets/interaction.py\u001b[0m in \u001b[0;36mupdate\u001b[0;34m(self, *args)\u001b[0m\n\u001b[1;32m    249\u001b[0m                     \u001b[0mvalue\u001b[0m \u001b[0;34m=\u001b[0m \u001b[0mwidget\u001b[0m\u001b[0;34m.\u001b[0m\u001b[0mget_interact_value\u001b[0m\u001b[0;34m(\u001b[0m\u001b[0;34m)\u001b[0m\u001b[0;34m\u001b[0m\u001b[0;34m\u001b[0m\u001b[0m\n\u001b[1;32m    250\u001b[0m                     \u001b[0mself\u001b[0m\u001b[0;34m.\u001b[0m\u001b[0mkwargs\u001b[0m\u001b[0;34m[\u001b[0m\u001b[0mwidget\u001b[0m\u001b[0;34m.\u001b[0m\u001b[0m_kwarg\u001b[0m\u001b[0;34m]\u001b[0m \u001b[0;34m=\u001b[0m \u001b[0mvalue\u001b[0m\u001b[0;34m\u001b[0m\u001b[0;34m\u001b[0m\u001b[0m\n\u001b[0;32m--> 251\u001b[0;31m                 \u001b[0mself\u001b[0m\u001b[0;34m.\u001b[0m\u001b[0mresult\u001b[0m \u001b[0;34m=\u001b[0m \u001b[0mself\u001b[0m\u001b[0;34m.\u001b[0m\u001b[0mf\u001b[0m\u001b[0;34m(\u001b[0m\u001b[0;34m**\u001b[0m\u001b[0mself\u001b[0m\u001b[0;34m.\u001b[0m\u001b[0mkwargs\u001b[0m\u001b[0;34m)\u001b[0m\u001b[0;34m\u001b[0m\u001b[0;34m\u001b[0m\u001b[0m\n\u001b[0m\u001b[1;32m    252\u001b[0m                 \u001b[0mshow_inline_matplotlib_plots\u001b[0m\u001b[0;34m(\u001b[0m\u001b[0;34m)\u001b[0m\u001b[0;34m\u001b[0m\u001b[0;34m\u001b[0m\u001b[0m\n\u001b[1;32m    253\u001b[0m                 \u001b[0;32mif\u001b[0m \u001b[0mself\u001b[0m\u001b[0;34m.\u001b[0m\u001b[0mauto_display\u001b[0m \u001b[0;32mand\u001b[0m \u001b[0mself\u001b[0m\u001b[0;34m.\u001b[0m\u001b[0mresult\u001b[0m \u001b[0;32mis\u001b[0m \u001b[0;32mnot\u001b[0m \u001b[0;32mNone\u001b[0m\u001b[0;34m:\u001b[0m\u001b[0;34m\u001b[0m\u001b[0;34m\u001b[0m\u001b[0m\n",
          "\u001b[0;32m<ipython-input-11-c98370de17ef>\u001b[0m in \u001b[0;36mrepresent_states\u001b[0;34m(n_sites)\u001b[0m\n\u001b[1;32m     16\u001b[0m     \u001b[0;32mfor\u001b[0m \u001b[0mi\u001b[0m\u001b[0;34m,\u001b[0m\u001b[0mstates\u001b[0m \u001b[0;32min\u001b[0m \u001b[0menumerate\u001b[0m\u001b[0;34m(\u001b[0m\u001b[0mgrouped_states\u001b[0m\u001b[0;34m)\u001b[0m\u001b[0;34m:\u001b[0m      \u001b[0;31m# print state vectors\u001b[0m\u001b[0;34m\u001b[0m\u001b[0;34m\u001b[0m\u001b[0m\n\u001b[1;32m     17\u001b[0m         \u001b[0mprint\u001b[0m\u001b[0;34m(\u001b[0m\u001b[0;34m'States with'\u001b[0m\u001b[0;34m,\u001b[0m\u001b[0mi\u001b[0m\u001b[0;34m,\u001b[0m\u001b[0;34m'ligands bound:'\u001b[0m\u001b[0;34m)\u001b[0m\u001b[0;34m\u001b[0m\u001b[0;34m\u001b[0m\u001b[0m\n\u001b[0;32m---> 18\u001b[0;31m         \u001b[0mpprint\u001b[0m\u001b[0;34m(\u001b[0m\u001b[0mstates\u001b[0m\u001b[0;34m,\u001b[0m\u001b[0;34m'\\n'\u001b[0m\u001b[0;34m)\u001b[0m\u001b[0;34m\u001b[0m\u001b[0;34m\u001b[0m\u001b[0m\n\u001b[0m\u001b[1;32m     19\u001b[0m \u001b[0;34m\u001b[0m\u001b[0m\n\u001b[1;32m     20\u001b[0m \u001b[0minteractive\u001b[0m\u001b[0;34m(\u001b[0m\u001b[0mrepresent_states\u001b[0m\u001b[0;34m,\u001b[0m\u001b[0mn_sites\u001b[0m\u001b[0;34m=\u001b[0m\u001b[0;34m(\u001b[0m\u001b[0;36m1\u001b[0m\u001b[0;34m,\u001b[0m\u001b[0;36m10\u001b[0m\u001b[0;34m,\u001b[0m\u001b[0;36m1\u001b[0m\u001b[0;34m)\u001b[0m\u001b[0;34m)\u001b[0m\u001b[0;34m\u001b[0m\u001b[0;34m\u001b[0m\u001b[0m\n",
          "\u001b[0;32m/anaconda3/lib/python3.7/pprint.py\u001b[0m in \u001b[0;36mpprint\u001b[0;34m(object, stream, indent, width, depth, compact)\u001b[0m\n\u001b[1;32m     51\u001b[0m         \u001b[0mstream\u001b[0m\u001b[0;34m=\u001b[0m\u001b[0mstream\u001b[0m\u001b[0;34m,\u001b[0m \u001b[0mindent\u001b[0m\u001b[0;34m=\u001b[0m\u001b[0mindent\u001b[0m\u001b[0;34m,\u001b[0m \u001b[0mwidth\u001b[0m\u001b[0;34m=\u001b[0m\u001b[0mwidth\u001b[0m\u001b[0;34m,\u001b[0m \u001b[0mdepth\u001b[0m\u001b[0;34m=\u001b[0m\u001b[0mdepth\u001b[0m\u001b[0;34m,\u001b[0m\u001b[0;34m\u001b[0m\u001b[0;34m\u001b[0m\u001b[0m\n\u001b[1;32m     52\u001b[0m         compact=compact)\n\u001b[0;32m---> 53\u001b[0;31m     \u001b[0mprinter\u001b[0m\u001b[0;34m.\u001b[0m\u001b[0mpprint\u001b[0m\u001b[0;34m(\u001b[0m\u001b[0mobject\u001b[0m\u001b[0;34m)\u001b[0m\u001b[0;34m\u001b[0m\u001b[0;34m\u001b[0m\u001b[0m\n\u001b[0m\u001b[1;32m     54\u001b[0m \u001b[0;34m\u001b[0m\u001b[0m\n\u001b[1;32m     55\u001b[0m \u001b[0;32mdef\u001b[0m \u001b[0mpformat\u001b[0m\u001b[0;34m(\u001b[0m\u001b[0mobject\u001b[0m\u001b[0;34m,\u001b[0m \u001b[0mindent\u001b[0m\u001b[0;34m=\u001b[0m\u001b[0;36m1\u001b[0m\u001b[0;34m,\u001b[0m \u001b[0mwidth\u001b[0m\u001b[0;34m=\u001b[0m\u001b[0;36m80\u001b[0m\u001b[0;34m,\u001b[0m \u001b[0mdepth\u001b[0m\u001b[0;34m=\u001b[0m\u001b[0;32mNone\u001b[0m\u001b[0;34m,\u001b[0m \u001b[0;34m*\u001b[0m\u001b[0;34m,\u001b[0m \u001b[0mcompact\u001b[0m\u001b[0;34m=\u001b[0m\u001b[0;32mFalse\u001b[0m\u001b[0;34m)\u001b[0m\u001b[0;34m:\u001b[0m\u001b[0;34m\u001b[0m\u001b[0;34m\u001b[0m\u001b[0m\n",
          "\u001b[0;32m/anaconda3/lib/python3.7/pprint.py\u001b[0m in \u001b[0;36mpprint\u001b[0;34m(self, object)\u001b[0m\n\u001b[1;32m    137\u001b[0m \u001b[0;34m\u001b[0m\u001b[0m\n\u001b[1;32m    138\u001b[0m     \u001b[0;32mdef\u001b[0m \u001b[0mpprint\u001b[0m\u001b[0;34m(\u001b[0m\u001b[0mself\u001b[0m\u001b[0;34m,\u001b[0m \u001b[0mobject\u001b[0m\u001b[0;34m)\u001b[0m\u001b[0;34m:\u001b[0m\u001b[0;34m\u001b[0m\u001b[0;34m\u001b[0m\u001b[0m\n\u001b[0;32m--> 139\u001b[0;31m         \u001b[0mself\u001b[0m\u001b[0;34m.\u001b[0m\u001b[0m_format\u001b[0m\u001b[0;34m(\u001b[0m\u001b[0mobject\u001b[0m\u001b[0;34m,\u001b[0m \u001b[0mself\u001b[0m\u001b[0;34m.\u001b[0m\u001b[0m_stream\u001b[0m\u001b[0;34m,\u001b[0m \u001b[0;36m0\u001b[0m\u001b[0;34m,\u001b[0m \u001b[0;36m0\u001b[0m\u001b[0;34m,\u001b[0m \u001b[0;34m{\u001b[0m\u001b[0;34m}\u001b[0m\u001b[0;34m,\u001b[0m \u001b[0;36m0\u001b[0m\u001b[0;34m)\u001b[0m\u001b[0;34m\u001b[0m\u001b[0;34m\u001b[0m\u001b[0m\n\u001b[0m\u001b[1;32m    140\u001b[0m         \u001b[0mself\u001b[0m\u001b[0;34m.\u001b[0m\u001b[0m_stream\u001b[0m\u001b[0;34m.\u001b[0m\u001b[0mwrite\u001b[0m\u001b[0;34m(\u001b[0m\u001b[0;34m\"\\n\"\u001b[0m\u001b[0;34m)\u001b[0m\u001b[0;34m\u001b[0m\u001b[0;34m\u001b[0m\u001b[0m\n\u001b[1;32m    141\u001b[0m \u001b[0;34m\u001b[0m\u001b[0m\n",
          "\u001b[0;32m/anaconda3/lib/python3.7/pprint.py\u001b[0m in \u001b[0;36m_format\u001b[0;34m(self, object, stream, indent, allowance, context, level)\u001b[0m\n\u001b[1;32m    174\u001b[0m                 \u001b[0;32mdel\u001b[0m \u001b[0mcontext\u001b[0m\u001b[0;34m[\u001b[0m\u001b[0mobjid\u001b[0m\u001b[0;34m]\u001b[0m\u001b[0;34m\u001b[0m\u001b[0;34m\u001b[0m\u001b[0m\n\u001b[1;32m    175\u001b[0m                 \u001b[0;32mreturn\u001b[0m\u001b[0;34m\u001b[0m\u001b[0;34m\u001b[0m\u001b[0m\n\u001b[0;32m--> 176\u001b[0;31m         \u001b[0mstream\u001b[0m\u001b[0;34m.\u001b[0m\u001b[0mwrite\u001b[0m\u001b[0;34m(\u001b[0m\u001b[0mrep\u001b[0m\u001b[0;34m)\u001b[0m\u001b[0;34m\u001b[0m\u001b[0;34m\u001b[0m\u001b[0m\n\u001b[0m\u001b[1;32m    177\u001b[0m \u001b[0;34m\u001b[0m\u001b[0m\n\u001b[1;32m    178\u001b[0m     \u001b[0m_dispatch\u001b[0m \u001b[0;34m=\u001b[0m \u001b[0;34m{\u001b[0m\u001b[0;34m}\u001b[0m\u001b[0;34m\u001b[0m\u001b[0;34m\u001b[0m\u001b[0m\n",
          "\u001b[0;31mAttributeError\u001b[0m: 'str' object has no attribute 'write'"
         ]
        }
       ]
      }
     },
     "2cd29a9aabd84a0dae925fdb06228260": {
      "model_module": "@jupyter-widgets/output",
      "model_module_version": "1.0.0",
      "model_name": "OutputModel",
      "state": {
       "layout": "IPY_MODEL_4d777bacc5074a6f9115175161e07e45",
       "outputs": [
        {
         "name": "stdout",
         "output_type": "stream",
         "text": "[[['00000', 1]],\n [['10000', 5]],\n [['11000', 5], ['10100', 5]],\n [['11100', 5], ['11010', 5]],\n [['11110', 5]],\n [['11111', 1]]]\n"
        }
       ]
      }
     },
     "2d57efd26f124a2f8e675412045b4b13": {
      "model_module": "@jupyter-widgets/base",
      "model_module_version": "1.1.0",
      "model_name": "LayoutModel",
      "state": {}
     },
     "2fc99c5ddf0e434ba47f86a0beea87de": {
      "model_module": "@jupyter-widgets/controls",
      "model_module_version": "1.4.0",
      "model_name": "IntSliderModel",
      "state": {
       "description": "n_sites",
       "layout": "IPY_MODEL_ab98de5865f34f3f91bb8fd53ed156bd",
       "max": 10,
       "min": 1,
       "style": "IPY_MODEL_7dd82479cea247aaa34a9d3cc783c8fa",
       "value": 7
      }
     },
     "327563f1cfed473ebacef1834a4faec2": {
      "model_module": "@jupyter-widgets/base",
      "model_module_version": "1.1.0",
      "model_name": "LayoutModel",
      "state": {}
     },
     "3343488a8a094857a094981bf5c97632": {
      "model_module": "@jupyter-widgets/base",
      "model_module_version": "1.1.0",
      "model_name": "LayoutModel",
      "state": {}
     },
     "340805d406b7470f8800c57ec80f632e": {
      "model_module": "@jupyter-widgets/controls",
      "model_module_version": "1.4.0",
      "model_name": "SliderStyleModel",
      "state": {
       "description_width": ""
      }
     },
     "3665c03abef54858a2808fe1b2e5202d": {
      "model_module": "@jupyter-widgets/base",
      "model_module_version": "1.1.0",
      "model_name": "LayoutModel",
      "state": {}
     },
     "36d71db2324140d5976c9ba1b2ce10a8": {
      "model_module": "@jupyter-widgets/base",
      "model_module_version": "1.1.0",
      "model_name": "LayoutModel",
      "state": {}
     },
     "3725940fb0724a088c81c513b57ea8ce": {
      "model_module": "@jupyter-widgets/controls",
      "model_module_version": "1.4.0",
      "model_name": "TextModel",
      "state": {
       "description": "B",
       "layout": "IPY_MODEL_7c8dfa9a8e43424593cf1805acc583ea",
       "style": "IPY_MODEL_1f7053556c304b89ad992199fa3a23c3",
       "value": "00000001001"
      }
     },
     "3cdca0260cb14366906ffd6ed6411757": {
      "model_module": "@jupyter-widgets/base",
      "model_module_version": "1.1.0",
      "model_name": "LayoutModel",
      "state": {}
     },
     "3cf36da4e87d4e7f955bef87bbb50e1b": {
      "model_module": "@jupyter-widgets/controls",
      "model_module_version": "1.4.0",
      "model_name": "DescriptionStyleModel",
      "state": {
       "description_width": ""
      }
     },
     "3e3c4f7195c343e190ad6f1ccd6d937b": {
      "model_module": "@jupyter-widgets/controls",
      "model_module_version": "1.4.0",
      "model_name": "TextModel",
      "state": {
       "description": "B",
       "layout": "IPY_MODEL_b0bc0ba68a654433af9d6d230fc88892",
       "style": "IPY_MODEL_419be6ad50784b51b2d50c6f7cb24f44",
       "value": "10010000000"
      }
     },
     "3e75a95c1ee0449fab8b4cae4efc462e": {
      "model_module": "@jupyter-widgets/base",
      "model_module_version": "1.1.0",
      "model_name": "LayoutModel",
      "state": {}
     },
     "3eac89d553104340a85fe2bb73b08855": {
      "model_module": "@jupyter-widgets/base",
      "model_module_version": "1.1.0",
      "model_name": "LayoutModel",
      "state": {}
     },
     "3faa75f788464a438e6ec3472636ac19": {
      "model_module": "@jupyter-widgets/controls",
      "model_module_version": "1.4.0",
      "model_name": "SliderStyleModel",
      "state": {
       "description_width": ""
      }
     },
     "40122de31cb044e99e7db6255b8a80f5": {
      "model_module": "@jupyter-widgets/base",
      "model_module_version": "1.1.0",
      "model_name": "LayoutModel",
      "state": {}
     },
     "404f95a00eab4fd7b817d96bc5ee413a": {
      "model_module": "@jupyter-widgets/controls",
      "model_module_version": "1.4.0",
      "model_name": "IntSliderModel",
      "state": {
       "description": "n_sites",
       "layout": "IPY_MODEL_81402b1ba13d4c63b85ed644422f08f6",
       "max": 10,
       "min": 1,
       "style": "IPY_MODEL_20323ffc562e415da8131106e963bb56",
       "value": 5
      }
     },
     "419be6ad50784b51b2d50c6f7cb24f44": {
      "model_module": "@jupyter-widgets/controls",
      "model_module_version": "1.4.0",
      "model_name": "DescriptionStyleModel",
      "state": {
       "description_width": ""
      }
     },
     "423c52af75d2498c9b8c1de635f38cee": {
      "model_module": "@jupyter-widgets/controls",
      "model_module_version": "1.4.0",
      "model_name": "SliderStyleModel",
      "state": {
       "description_width": ""
      }
     },
     "4326095b193844e0aba264abefec15c7": {
      "model_module": "@jupyter-widgets/base",
      "model_module_version": "1.1.0",
      "model_name": "LayoutModel",
      "state": {}
     },
     "43605572a04645c084a6fd9579a67393": {
      "model_module": "@jupyter-widgets/output",
      "model_module_version": "1.0.0",
      "model_name": "OutputModel",
      "state": {
       "layout": "IPY_MODEL_9a8684357da148689efe0ae6b010c8c6",
       "outputs": [
        {
         "name": "stdout",
         "output_type": "stream",
         "text": "[[['0000', 1]],\n [['1000', 4]],\n [['1100', 4], ['1010', 2]],\n [['1110', 4]],\n [['1111', 1]]]\n"
        }
       ]
      }
     },
     "45b1e496154647329bcc8639b729e139": {
      "model_module": "@jupyter-widgets/output",
      "model_module_version": "1.0.0",
      "model_name": "OutputModel",
      "state": {
       "layout": "IPY_MODEL_719d1f9c421e4b08b7c6a97f07c00707",
       "outputs": [
        {
         "name": "stdout",
         "output_type": "stream",
         "text": "States with 0 ligands bound:\n"
        },
        {
         "ename": "TypeError",
         "evalue": "'module' object is not callable",
         "output_type": "error",
         "traceback": [
          "\u001b[0;31m---------------------------------------------------------------------------\u001b[0m",
          "\u001b[0;31mTypeError\u001b[0m                                 Traceback (most recent call last)",
          "\u001b[0;32m/anaconda3/lib/python3.7/site-packages/ipywidgets/widgets/interaction.py\u001b[0m in \u001b[0;36mupdate\u001b[0;34m(self, *args)\u001b[0m\n\u001b[1;32m    249\u001b[0m                     \u001b[0mvalue\u001b[0m \u001b[0;34m=\u001b[0m \u001b[0mwidget\u001b[0m\u001b[0;34m.\u001b[0m\u001b[0mget_interact_value\u001b[0m\u001b[0;34m(\u001b[0m\u001b[0;34m)\u001b[0m\u001b[0;34m\u001b[0m\u001b[0;34m\u001b[0m\u001b[0m\n\u001b[1;32m    250\u001b[0m                     \u001b[0mself\u001b[0m\u001b[0;34m.\u001b[0m\u001b[0mkwargs\u001b[0m\u001b[0;34m[\u001b[0m\u001b[0mwidget\u001b[0m\u001b[0;34m.\u001b[0m\u001b[0m_kwarg\u001b[0m\u001b[0;34m]\u001b[0m \u001b[0;34m=\u001b[0m \u001b[0mvalue\u001b[0m\u001b[0;34m\u001b[0m\u001b[0;34m\u001b[0m\u001b[0m\n\u001b[0;32m--> 251\u001b[0;31m                 \u001b[0mself\u001b[0m\u001b[0;34m.\u001b[0m\u001b[0mresult\u001b[0m \u001b[0;34m=\u001b[0m \u001b[0mself\u001b[0m\u001b[0;34m.\u001b[0m\u001b[0mf\u001b[0m\u001b[0;34m(\u001b[0m\u001b[0;34m**\u001b[0m\u001b[0mself\u001b[0m\u001b[0;34m.\u001b[0m\u001b[0mkwargs\u001b[0m\u001b[0;34m)\u001b[0m\u001b[0;34m\u001b[0m\u001b[0;34m\u001b[0m\u001b[0m\n\u001b[0m\u001b[1;32m    252\u001b[0m                 \u001b[0mshow_inline_matplotlib_plots\u001b[0m\u001b[0;34m(\u001b[0m\u001b[0;34m)\u001b[0m\u001b[0;34m\u001b[0m\u001b[0;34m\u001b[0m\u001b[0m\n\u001b[1;32m    253\u001b[0m                 \u001b[0;32mif\u001b[0m \u001b[0mself\u001b[0m\u001b[0;34m.\u001b[0m\u001b[0mauto_display\u001b[0m \u001b[0;32mand\u001b[0m \u001b[0mself\u001b[0m\u001b[0;34m.\u001b[0m\u001b[0mresult\u001b[0m \u001b[0;32mis\u001b[0m \u001b[0;32mnot\u001b[0m \u001b[0;32mNone\u001b[0m\u001b[0;34m:\u001b[0m\u001b[0;34m\u001b[0m\u001b[0;34m\u001b[0m\u001b[0m\n",
          "\u001b[0;32m<ipython-input-10-49476d3befa1>\u001b[0m in \u001b[0;36mrepresent_states\u001b[0;34m(n_sites)\u001b[0m\n\u001b[1;32m     16\u001b[0m     \u001b[0;32mfor\u001b[0m \u001b[0mi\u001b[0m\u001b[0;34m,\u001b[0m\u001b[0mstates\u001b[0m \u001b[0;32min\u001b[0m \u001b[0menumerate\u001b[0m\u001b[0;34m(\u001b[0m\u001b[0mgrouped_states\u001b[0m\u001b[0;34m)\u001b[0m\u001b[0;34m:\u001b[0m      \u001b[0;31m# print state vectors\u001b[0m\u001b[0;34m\u001b[0m\u001b[0;34m\u001b[0m\u001b[0m\n\u001b[1;32m     17\u001b[0m         \u001b[0mprint\u001b[0m\u001b[0;34m(\u001b[0m\u001b[0;34m'States with'\u001b[0m\u001b[0;34m,\u001b[0m\u001b[0mi\u001b[0m\u001b[0;34m,\u001b[0m\u001b[0;34m'ligands bound:'\u001b[0m\u001b[0;34m)\u001b[0m\u001b[0;34m\u001b[0m\u001b[0;34m\u001b[0m\u001b[0m\n\u001b[0;32m---> 18\u001b[0;31m         \u001b[0mpprint\u001b[0m\u001b[0;34m(\u001b[0m\u001b[0mstates\u001b[0m\u001b[0;34m,\u001b[0m\u001b[0;34m'\\n'\u001b[0m\u001b[0;34m)\u001b[0m\u001b[0;34m\u001b[0m\u001b[0;34m\u001b[0m\u001b[0m\n\u001b[0m\u001b[1;32m     19\u001b[0m \u001b[0;34m\u001b[0m\u001b[0m\n\u001b[1;32m     20\u001b[0m \u001b[0minteractive\u001b[0m\u001b[0;34m(\u001b[0m\u001b[0mrepresent_states\u001b[0m\u001b[0;34m,\u001b[0m\u001b[0mn_sites\u001b[0m\u001b[0;34m=\u001b[0m\u001b[0;34m(\u001b[0m\u001b[0;36m1\u001b[0m\u001b[0;34m,\u001b[0m\u001b[0;36m10\u001b[0m\u001b[0;34m,\u001b[0m\u001b[0;36m1\u001b[0m\u001b[0;34m)\u001b[0m\u001b[0;34m)\u001b[0m\u001b[0;34m\u001b[0m\u001b[0;34m\u001b[0m\u001b[0m\n",
          "\u001b[0;31mTypeError\u001b[0m: 'module' object is not callable"
         ]
        }
       ]
      }
     },
     "47d1adaec8a24f9385a1f88fcba2f67f": {
      "model_module": "@jupyter-widgets/output",
      "model_module_version": "1.0.0",
      "model_name": "OutputModel",
      "state": {
       "layout": "IPY_MODEL_9f831efad26f42eca8f94a8d1a4314ca",
       "outputs": [
        {
         "name": "stdout",
         "output_type": "stream",
         "text": "States with 0 ligands bound:\n['0000'] \n\nStates with 1 ligands bound:\n['1000', '0100', '0010', '0001'] \n\nStates with 2 ligands bound:\n['1100', '1010', '1001', '0110', '0101', '0011'] \n\nStates with 3 ligands bound:\n['1110', '1101', '1011', '0111'] \n\nStates with 4 ligands bound:\n['1111'] \n\n"
        }
       ]
      }
     },
     "4843ef0f87c4479b9ecf8837b3c38a34": {
      "model_module": "@jupyter-widgets/output",
      "model_module_version": "1.0.0",
      "model_name": "OutputModel",
      "state": {
       "layout": "IPY_MODEL_ea00608eff114532adb521867ca9eaee",
       "outputs": [
        {
         "name": "stdout",
         "output_type": "stream",
         "text": "For computational constraints please keep length of vector \n              (total number of sites) less than or equal to 10.\n              For longer vectors please download the notebook and run locally\n              or contact martinlrennie@gmail.com.\n              \n"
        },
        {
         "ename": "NameError",
         "evalue": "name 'stop' is not defined",
         "output_type": "error",
         "traceback": [
          "\u001b[0;31m---------------------------------------------------------------------------\u001b[0m",
          "\u001b[0;31mNameError\u001b[0m                                 Traceback (most recent call last)",
          "\u001b[0;32m/anaconda3/lib/python3.7/site-packages/ipywidgets/widgets/interaction.py\u001b[0m in \u001b[0;36mupdate\u001b[0;34m(self, *args)\u001b[0m\n\u001b[1;32m    249\u001b[0m                     \u001b[0mvalue\u001b[0m \u001b[0;34m=\u001b[0m \u001b[0mwidget\u001b[0m\u001b[0;34m.\u001b[0m\u001b[0mget_interact_value\u001b[0m\u001b[0;34m(\u001b[0m\u001b[0;34m)\u001b[0m\u001b[0;34m\u001b[0m\u001b[0;34m\u001b[0m\u001b[0m\n\u001b[1;32m    250\u001b[0m                     \u001b[0mself\u001b[0m\u001b[0;34m.\u001b[0m\u001b[0mkwargs\u001b[0m\u001b[0;34m[\u001b[0m\u001b[0mwidget\u001b[0m\u001b[0;34m.\u001b[0m\u001b[0m_kwarg\u001b[0m\u001b[0;34m]\u001b[0m \u001b[0;34m=\u001b[0m \u001b[0mvalue\u001b[0m\u001b[0;34m\u001b[0m\u001b[0;34m\u001b[0m\u001b[0m\n\u001b[0;32m--> 251\u001b[0;31m                 \u001b[0mself\u001b[0m\u001b[0;34m.\u001b[0m\u001b[0mresult\u001b[0m \u001b[0;34m=\u001b[0m \u001b[0mself\u001b[0m\u001b[0;34m.\u001b[0m\u001b[0mf\u001b[0m\u001b[0;34m(\u001b[0m\u001b[0;34m**\u001b[0m\u001b[0mself\u001b[0m\u001b[0;34m.\u001b[0m\u001b[0mkwargs\u001b[0m\u001b[0;34m)\u001b[0m\u001b[0;34m\u001b[0m\u001b[0;34m\u001b[0m\u001b[0m\n\u001b[0m\u001b[1;32m    252\u001b[0m                 \u001b[0mshow_inline_matplotlib_plots\u001b[0m\u001b[0;34m(\u001b[0m\u001b[0;34m)\u001b[0m\u001b[0;34m\u001b[0m\u001b[0;34m\u001b[0m\u001b[0m\n\u001b[1;32m    253\u001b[0m                 \u001b[0;32mif\u001b[0m \u001b[0mself\u001b[0m\u001b[0;34m.\u001b[0m\u001b[0mauto_display\u001b[0m \u001b[0;32mand\u001b[0m \u001b[0mself\u001b[0m\u001b[0;34m.\u001b[0m\u001b[0mresult\u001b[0m \u001b[0;32mis\u001b[0m \u001b[0;32mnot\u001b[0m \u001b[0;32mNone\u001b[0m\u001b[0;34m:\u001b[0m\u001b[0;34m\u001b[0m\u001b[0;34m\u001b[0m\u001b[0m\n",
          "\u001b[0;32m<ipython-input-23-a5aaa8d5cbb3>\u001b[0m in \u001b[0;36mequilibrium_eq\u001b[0;34m(B)\u001b[0m\n\u001b[1;32m     26\u001b[0m               \u001b[0;32mor\u001b[0m \u001b[0mcontact\u001b[0m \u001b[0mmartinlrennie\u001b[0m\u001b[0;34m@\u001b[0m\u001b[0mgmail\u001b[0m\u001b[0;34m.\u001b[0m\u001b[0mcom\u001b[0m\u001b[0;34m.\u001b[0m\u001b[0;34m\u001b[0m\u001b[0;34m\u001b[0m\u001b[0m\n\u001b[1;32m     27\u001b[0m               \"\"\")\n\u001b[0;32m---> 28\u001b[0;31m         \u001b[0mstop\u001b[0m\u001b[0;34m\u001b[0m\u001b[0;34m\u001b[0m\u001b[0m\n\u001b[0m\u001b[1;32m     29\u001b[0m \u001b[0;34m\u001b[0m\u001b[0m\n\u001b[1;32m     30\u001b[0m \u001b[0;34m\u001b[0m\u001b[0m\n",
          "\u001b[0;31mNameError\u001b[0m: name 'stop' is not defined"
         ]
        }
       ]
      }
     },
     "48e890cd11164b21acd23fa31fbb47e7": {
      "model_module": "@jupyter-widgets/output",
      "model_module_version": "1.0.0",
      "model_name": "OutputModel",
      "state": {
       "layout": "IPY_MODEL_f546fc41db404b57ad0611d35d768179",
       "outputs": [
        {
         "name": "stdout",
         "output_type": "stream",
         "text": "The total number of liganded states for 6 sites is:  64\nThe number of states with 0 ligands bound is: 1\nThe number of states with 1 ligands bound is: 6\nThe number of states with 2 ligands bound is: 15\nThe number of states with 3 ligands bound is: 20\nThe number of states with 4 ligands bound is: 15\nThe number of states with 5 ligands bound is: 6\nThe number of states with 6 ligands bound is: 1\n"
        }
       ]
      }
     },
     "4a304ec8e7174ecda7706e3730feb17c": {
      "model_module": "@jupyter-widgets/base",
      "model_module_version": "1.1.0",
      "model_name": "LayoutModel",
      "state": {}
     },
     "4a79bce7da4c4afc9bfc3aaa0a509778": {
      "model_module": "@jupyter-widgets/base",
      "model_module_version": "1.1.0",
      "model_name": "LayoutModel",
      "state": {}
     },
     "4aa3cafc185c4706a470a95540b6bbce": {
      "model_module": "@jupyter-widgets/controls",
      "model_module_version": "1.4.0",
      "model_name": "SliderStyleModel",
      "state": {
       "description_width": ""
      }
     },
     "4ad904517b674644a458b06ecfd00235": {
      "model_module": "@jupyter-widgets/base",
      "model_module_version": "1.1.0",
      "model_name": "LayoutModel",
      "state": {}
     },
     "4b92d58f543945f3a9c6971b2151346f": {
      "model_module": "@jupyter-widgets/base",
      "model_module_version": "1.1.0",
      "model_name": "LayoutModel",
      "state": {}
     },
     "4d22836a2fb640fab47c7b312cb21636": {
      "model_module": "@jupyter-widgets/base",
      "model_module_version": "1.1.0",
      "model_name": "LayoutModel",
      "state": {}
     },
     "4d777bacc5074a6f9115175161e07e45": {
      "model_module": "@jupyter-widgets/base",
      "model_module_version": "1.1.0",
      "model_name": "LayoutModel",
      "state": {}
     },
     "4fb7c8c769d946c7b4594a77ed17bd8a": {
      "model_module": "@jupyter-widgets/controls",
      "model_module_version": "1.4.0",
      "model_name": "VBoxModel",
      "state": {
       "_dom_classes": [
        "widget-interact"
       ],
       "children": [
        "IPY_MODEL_1640c7e1bae84533a1fd96ef7aa75296",
        "IPY_MODEL_48e890cd11164b21acd23fa31fbb47e7"
       ],
       "layout": "IPY_MODEL_327563f1cfed473ebacef1834a4faec2"
      }
     },
     "512c406a09474a2cac6f1b4e10ea7015": {
      "model_module": "@jupyter-widgets/controls",
      "model_module_version": "1.4.0",
      "model_name": "TextModel",
      "state": {
       "description": "B",
       "layout": "IPY_MODEL_b110fa7fe3fb4ff7ae4dae3a5db6d9c5",
       "style": "IPY_MODEL_bb19c0eb9d2a466da0d295926885625c",
       "value": "1001"
      }
     },
     "5150110d45fb466aa80025c03b652f53": {
      "model_module": "@jupyter-widgets/base",
      "model_module_version": "1.1.0",
      "model_name": "LayoutModel",
      "state": {}
     },
     "5328adb1dfd94692b360047886bcf360": {
      "model_module": "@jupyter-widgets/controls",
      "model_module_version": "1.4.0",
      "model_name": "TextModel",
      "state": {
       "description": "B",
       "layout": "IPY_MODEL_bbe66503398e4886babf2529dd60f42b",
       "style": "IPY_MODEL_6be019935eed46eaa9d69c3a078ed12e",
       "value": "101"
      }
     },
     "534d214f579f43d7ae57484566fd6578": {
      "model_module": "@jupyter-widgets/controls",
      "model_module_version": "1.4.0",
      "model_name": "VBoxModel",
      "state": {
       "_dom_classes": [
        "widget-interact"
       ],
       "children": [
        "IPY_MODEL_1918800b221640e6985a4f1aeb4da2d2",
        "IPY_MODEL_1d472f931d01487991719d0675316cb6"
       ],
       "layout": "IPY_MODEL_002faf5377974bbc9b101b4ca7dc954f"
      }
     },
     "54e664e3081a462d99477271b897b182": {
      "model_module": "@jupyter-widgets/base",
      "model_module_version": "1.1.0",
      "model_name": "LayoutModel",
      "state": {}
     },
     "5599d51445f346358bcaeb69058816a7": {
      "model_module": "@jupyter-widgets/base",
      "model_module_version": "1.1.0",
      "model_name": "LayoutModel",
      "state": {}
     },
     "561bce78a18443b8a0a53aa7d2c74e2a": {
      "model_module": "@jupyter-widgets/controls",
      "model_module_version": "1.4.0",
      "model_name": "VBoxModel",
      "state": {
       "_dom_classes": [
        "widget-interact"
       ],
       "children": [
        "IPY_MODEL_88bcadc930fb42a0862c9fc4ba44e240",
        "IPY_MODEL_0597abbe7e024aabae5cc6b1c95ae410"
       ],
       "layout": "IPY_MODEL_4d22836a2fb640fab47c7b312cb21636"
      }
     },
     "5697fda2a7a2400b9b682efa9c7031c3": {
      "model_module": "@jupyter-widgets/output",
      "model_module_version": "1.0.0",
      "model_name": "OutputModel",
      "state": {
       "layout": "IPY_MODEL_2d57efd26f124a2f8e675412045b4b13",
       "outputs": [
        {
         "ename": "ValueError",
         "evalue": "invalid literal for int() with base 10: 'ligands bound:'",
         "output_type": "error",
         "traceback": [
          "\u001b[0;31m---------------------------------------------------------------------------\u001b[0m",
          "\u001b[0;31mValueError\u001b[0m                                Traceback (most recent call last)",
          "\u001b[0;32m/anaconda3/lib/python3.7/site-packages/ipywidgets/widgets/interaction.py\u001b[0m in \u001b[0;36mupdate\u001b[0;34m(self, *args)\u001b[0m\n\u001b[1;32m    249\u001b[0m                     \u001b[0mvalue\u001b[0m \u001b[0;34m=\u001b[0m \u001b[0mwidget\u001b[0m\u001b[0;34m.\u001b[0m\u001b[0mget_interact_value\u001b[0m\u001b[0;34m(\u001b[0m\u001b[0;34m)\u001b[0m\u001b[0;34m\u001b[0m\u001b[0;34m\u001b[0m\u001b[0m\n\u001b[1;32m    250\u001b[0m                     \u001b[0mself\u001b[0m\u001b[0;34m.\u001b[0m\u001b[0mkwargs\u001b[0m\u001b[0;34m[\u001b[0m\u001b[0mwidget\u001b[0m\u001b[0;34m.\u001b[0m\u001b[0m_kwarg\u001b[0m\u001b[0;34m]\u001b[0m \u001b[0;34m=\u001b[0m \u001b[0mvalue\u001b[0m\u001b[0;34m\u001b[0m\u001b[0;34m\u001b[0m\u001b[0m\n\u001b[0;32m--> 251\u001b[0;31m                 \u001b[0mself\u001b[0m\u001b[0;34m.\u001b[0m\u001b[0mresult\u001b[0m \u001b[0;34m=\u001b[0m \u001b[0mself\u001b[0m\u001b[0;34m.\u001b[0m\u001b[0mf\u001b[0m\u001b[0;34m(\u001b[0m\u001b[0;34m**\u001b[0m\u001b[0mself\u001b[0m\u001b[0;34m.\u001b[0m\u001b[0mkwargs\u001b[0m\u001b[0;34m)\u001b[0m\u001b[0;34m\u001b[0m\u001b[0;34m\u001b[0m\u001b[0m\n\u001b[0m\u001b[1;32m    252\u001b[0m                 \u001b[0mshow_inline_matplotlib_plots\u001b[0m\u001b[0;34m(\u001b[0m\u001b[0;34m)\u001b[0m\u001b[0;34m\u001b[0m\u001b[0;34m\u001b[0m\u001b[0m\n\u001b[1;32m    253\u001b[0m                 \u001b[0;32mif\u001b[0m \u001b[0mself\u001b[0m\u001b[0;34m.\u001b[0m\u001b[0mauto_display\u001b[0m \u001b[0;32mand\u001b[0m \u001b[0mself\u001b[0m\u001b[0;34m.\u001b[0m\u001b[0mresult\u001b[0m \u001b[0;32mis\u001b[0m \u001b[0;32mnot\u001b[0m \u001b[0;32mNone\u001b[0m\u001b[0;34m:\u001b[0m\u001b[0;34m\u001b[0m\u001b[0;34m\u001b[0m\u001b[0m\n",
          "\u001b[0;32m<ipython-input-12-29b3de4060ee>\u001b[0m in \u001b[0;36mrepresent_states\u001b[0;34m(n_sites)\u001b[0m\n\u001b[1;32m     15\u001b[0m \u001b[0;34m\u001b[0m\u001b[0m\n\u001b[1;32m     16\u001b[0m     \u001b[0;32mfor\u001b[0m \u001b[0mi\u001b[0m\u001b[0;34m,\u001b[0m\u001b[0mstates\u001b[0m \u001b[0;32min\u001b[0m \u001b[0menumerate\u001b[0m\u001b[0;34m(\u001b[0m\u001b[0mgrouped_states\u001b[0m\u001b[0;34m)\u001b[0m\u001b[0;34m:\u001b[0m      \u001b[0;31m# print state vectors\u001b[0m\u001b[0;34m\u001b[0m\u001b[0;34m\u001b[0m\u001b[0m\n\u001b[0;32m---> 17\u001b[0;31m         \u001b[0mpprint\u001b[0m\u001b[0;34m(\u001b[0m\u001b[0;34m'States with'\u001b[0m\u001b[0;34m,\u001b[0m\u001b[0mi\u001b[0m\u001b[0;34m,\u001b[0m\u001b[0;34m'ligands bound:'\u001b[0m\u001b[0;34m)\u001b[0m\u001b[0;34m\u001b[0m\u001b[0;34m\u001b[0m\u001b[0m\n\u001b[0m\u001b[1;32m     18\u001b[0m         \u001b[0mpprint\u001b[0m\u001b[0;34m(\u001b[0m\u001b[0mstates\u001b[0m\u001b[0;34m,\u001b[0m\u001b[0;34m'\\n'\u001b[0m\u001b[0;34m)\u001b[0m\u001b[0;34m\u001b[0m\u001b[0;34m\u001b[0m\u001b[0m\n\u001b[1;32m     19\u001b[0m \u001b[0;34m\u001b[0m\u001b[0m\n",
          "\u001b[0;32m/anaconda3/lib/python3.7/pprint.py\u001b[0m in \u001b[0;36mpprint\u001b[0;34m(object, stream, indent, width, depth, compact)\u001b[0m\n\u001b[1;32m     50\u001b[0m     printer = PrettyPrinter(\n\u001b[1;32m     51\u001b[0m         \u001b[0mstream\u001b[0m\u001b[0;34m=\u001b[0m\u001b[0mstream\u001b[0m\u001b[0;34m,\u001b[0m \u001b[0mindent\u001b[0m\u001b[0;34m=\u001b[0m\u001b[0mindent\u001b[0m\u001b[0;34m,\u001b[0m \u001b[0mwidth\u001b[0m\u001b[0;34m=\u001b[0m\u001b[0mwidth\u001b[0m\u001b[0;34m,\u001b[0m \u001b[0mdepth\u001b[0m\u001b[0;34m=\u001b[0m\u001b[0mdepth\u001b[0m\u001b[0;34m,\u001b[0m\u001b[0;34m\u001b[0m\u001b[0;34m\u001b[0m\u001b[0m\n\u001b[0;32m---> 52\u001b[0;31m         compact=compact)\n\u001b[0m\u001b[1;32m     53\u001b[0m     \u001b[0mprinter\u001b[0m\u001b[0;34m.\u001b[0m\u001b[0mpprint\u001b[0m\u001b[0;34m(\u001b[0m\u001b[0mobject\u001b[0m\u001b[0;34m)\u001b[0m\u001b[0;34m\u001b[0m\u001b[0;34m\u001b[0m\u001b[0m\n\u001b[1;32m     54\u001b[0m \u001b[0;34m\u001b[0m\u001b[0m\n",
          "\u001b[0;32m/anaconda3/lib/python3.7/pprint.py\u001b[0m in \u001b[0;36m__init__\u001b[0;34m(self, indent, width, depth, stream, compact)\u001b[0m\n\u001b[1;32m    119\u001b[0m \u001b[0;34m\u001b[0m\u001b[0m\n\u001b[1;32m    120\u001b[0m         \"\"\"\n\u001b[0;32m--> 121\u001b[0;31m         \u001b[0mindent\u001b[0m \u001b[0;34m=\u001b[0m \u001b[0mint\u001b[0m\u001b[0;34m(\u001b[0m\u001b[0mindent\u001b[0m\u001b[0;34m)\u001b[0m\u001b[0;34m\u001b[0m\u001b[0;34m\u001b[0m\u001b[0m\n\u001b[0m\u001b[1;32m    122\u001b[0m         \u001b[0mwidth\u001b[0m \u001b[0;34m=\u001b[0m \u001b[0mint\u001b[0m\u001b[0;34m(\u001b[0m\u001b[0mwidth\u001b[0m\u001b[0;34m)\u001b[0m\u001b[0;34m\u001b[0m\u001b[0;34m\u001b[0m\u001b[0m\n\u001b[1;32m    123\u001b[0m         \u001b[0;32mif\u001b[0m \u001b[0mindent\u001b[0m \u001b[0;34m<\u001b[0m \u001b[0;36m0\u001b[0m\u001b[0;34m:\u001b[0m\u001b[0;34m\u001b[0m\u001b[0;34m\u001b[0m\u001b[0m\n",
          "\u001b[0;31mValueError\u001b[0m: invalid literal for int() with base 10: 'ligands bound:'"
         ]
        }
       ]
      }
     },
     "587f4caedb274b40a4b17dd27e0f2464": {
      "model_module": "@jupyter-widgets/controls",
      "model_module_version": "1.4.0",
      "model_name": "VBoxModel",
      "state": {
       "_dom_classes": [
        "widget-interact"
       ],
       "children": [
        "IPY_MODEL_2ad15c47cb344916ab33e3e358cff55e",
        "IPY_MODEL_43605572a04645c084a6fd9579a67393"
       ],
       "layout": "IPY_MODEL_f54858da59164cf18d4246d51c3579e3"
      }
     },
     "5935cd92cb6a4518b072477428f1aa92": {
      "model_module": "@jupyter-widgets/base",
      "model_module_version": "1.1.0",
      "model_name": "LayoutModel",
      "state": {}
     },
     "5949f2fd8659445188402bae581790de": {
      "model_module": "@jupyter-widgets/base",
      "model_module_version": "1.1.0",
      "model_name": "LayoutModel",
      "state": {}
     },
     "595cd98eaed24a5dbd83ff4509cea43f": {
      "model_module": "@jupyter-widgets/base",
      "model_module_version": "1.1.0",
      "model_name": "LayoutModel",
      "state": {}
     },
     "5aa666e1c520437cab61d96de6f161ec": {
      "model_module": "@jupyter-widgets/controls",
      "model_module_version": "1.4.0",
      "model_name": "VBoxModel",
      "state": {
       "_dom_classes": [
        "widget-interact"
       ],
       "children": [
        "IPY_MODEL_bd2cf939b5e94e1e82980f9566b1ad40",
        "IPY_MODEL_5697fda2a7a2400b9b682efa9c7031c3"
       ],
       "layout": "IPY_MODEL_8539ca1512e5477f97004e1d809d28df"
      }
     },
     "5c0121342b9a46c5af069ddd3159496a": {
      "model_module": "@jupyter-widgets/base",
      "model_module_version": "1.1.0",
      "model_name": "LayoutModel",
      "state": {}
     },
     "5ceb881a94354ee7882b1cb9c5a0711d": {
      "model_module": "@jupyter-widgets/base",
      "model_module_version": "1.1.0",
      "model_name": "LayoutModel",
      "state": {}
     },
     "5d6619cda32a442a8b6f295a4447f930": {
      "model_module": "@jupyter-widgets/base",
      "model_module_version": "1.1.0",
      "model_name": "LayoutModel",
      "state": {}
     },
     "5df44598f15c44c4841f783e4ef40595": {
      "model_module": "@jupyter-widgets/output",
      "model_module_version": "1.0.0",
      "model_name": "OutputModel",
      "state": {
       "layout": "IPY_MODEL_88dc604ad44d4c1f8542d62d4475cdc7",
       "outputs": [
        {
         "ename": "ValueError",
         "evalue": "For computational constraints please keep length of vector \n              (total number of sites) less than or equal to 10.\n              For longer vectors please download the notebook and run locally\n              or contact martinlrennie@gmail.com.\n              ",
         "output_type": "error",
         "traceback": [
          "\u001b[0;31m---------------------------------------------------------------------------\u001b[0m",
          "\u001b[0;31mValueError\u001b[0m                                Traceback (most recent call last)",
          "\u001b[0;32m/anaconda3/lib/python3.7/site-packages/ipywidgets/widgets/interaction.py\u001b[0m in \u001b[0;36mupdate\u001b[0;34m(self, *args)\u001b[0m\n\u001b[1;32m    249\u001b[0m                     \u001b[0mvalue\u001b[0m \u001b[0;34m=\u001b[0m \u001b[0mwidget\u001b[0m\u001b[0;34m.\u001b[0m\u001b[0mget_interact_value\u001b[0m\u001b[0;34m(\u001b[0m\u001b[0;34m)\u001b[0m\u001b[0;34m\u001b[0m\u001b[0;34m\u001b[0m\u001b[0m\n\u001b[1;32m    250\u001b[0m                     \u001b[0mself\u001b[0m\u001b[0;34m.\u001b[0m\u001b[0mkwargs\u001b[0m\u001b[0;34m[\u001b[0m\u001b[0mwidget\u001b[0m\u001b[0;34m.\u001b[0m\u001b[0m_kwarg\u001b[0m\u001b[0;34m]\u001b[0m \u001b[0;34m=\u001b[0m \u001b[0mvalue\u001b[0m\u001b[0;34m\u001b[0m\u001b[0;34m\u001b[0m\u001b[0m\n\u001b[0;32m--> 251\u001b[0;31m                 \u001b[0mself\u001b[0m\u001b[0;34m.\u001b[0m\u001b[0mresult\u001b[0m \u001b[0;34m=\u001b[0m \u001b[0mself\u001b[0m\u001b[0;34m.\u001b[0m\u001b[0mf\u001b[0m\u001b[0;34m(\u001b[0m\u001b[0;34m**\u001b[0m\u001b[0mself\u001b[0m\u001b[0;34m.\u001b[0m\u001b[0mkwargs\u001b[0m\u001b[0;34m)\u001b[0m\u001b[0;34m\u001b[0m\u001b[0;34m\u001b[0m\u001b[0m\n\u001b[0m\u001b[1;32m    252\u001b[0m                 \u001b[0mshow_inline_matplotlib_plots\u001b[0m\u001b[0;34m(\u001b[0m\u001b[0;34m)\u001b[0m\u001b[0;34m\u001b[0m\u001b[0;34m\u001b[0m\u001b[0m\n\u001b[1;32m    253\u001b[0m                 \u001b[0;32mif\u001b[0m \u001b[0mself\u001b[0m\u001b[0;34m.\u001b[0m\u001b[0mauto_display\u001b[0m \u001b[0;32mand\u001b[0m \u001b[0mself\u001b[0m\u001b[0;34m.\u001b[0m\u001b[0mresult\u001b[0m \u001b[0;32mis\u001b[0m \u001b[0;32mnot\u001b[0m \u001b[0;32mNone\u001b[0m\u001b[0;34m:\u001b[0m\u001b[0;34m\u001b[0m\u001b[0;34m\u001b[0m\u001b[0m\n",
          "\u001b[0;32m<ipython-input-24-8bd355f2bd9c>\u001b[0m in \u001b[0;36mequilibrium_eq\u001b[0;34m(B)\u001b[0m\n\u001b[1;32m     25\u001b[0m               \u001b[0mFor\u001b[0m \u001b[0mlonger\u001b[0m \u001b[0mvectors\u001b[0m \u001b[0mplease\u001b[0m \u001b[0mdownload\u001b[0m \u001b[0mthe\u001b[0m \u001b[0mnotebook\u001b[0m \u001b[0;32mand\u001b[0m \u001b[0mrun\u001b[0m \u001b[0mlocally\u001b[0m\u001b[0;34m\u001b[0m\u001b[0;34m\u001b[0m\u001b[0m\n\u001b[1;32m     26\u001b[0m               \u001b[0;32mor\u001b[0m \u001b[0mcontact\u001b[0m \u001b[0mmartinlrennie\u001b[0m\u001b[0;34m@\u001b[0m\u001b[0mgmail\u001b[0m\u001b[0;34m.\u001b[0m\u001b[0mcom\u001b[0m\u001b[0;34m.\u001b[0m\u001b[0;34m\u001b[0m\u001b[0;34m\u001b[0m\u001b[0m\n\u001b[0;32m---> 27\u001b[0;31m               \"\"\")\n\u001b[0m\u001b[1;32m     28\u001b[0m \u001b[0;34m\u001b[0m\u001b[0m\n\u001b[1;32m     29\u001b[0m \u001b[0;34m\u001b[0m\u001b[0m\n",
          "\u001b[0;31mValueError\u001b[0m: For computational constraints please keep length of vector \n              (total number of sites) less than or equal to 10.\n              For longer vectors please download the notebook and run locally\n              or contact martinlrennie@gmail.com.\n              "
         ]
        }
       ]
      }
     },
     "61ccaeab64ae4c49a7dfa647ab2f98d5": {
      "model_module": "@jupyter-widgets/controls",
      "model_module_version": "1.4.0",
      "model_name": "VBoxModel",
      "state": {
       "_dom_classes": [
        "widget-interact"
       ],
       "children": [
        "IPY_MODEL_7aa30ef55c01482bb6b3d615c313a39f",
        "IPY_MODEL_ed4b892b7ca046b3b9f4d5861ee218b1"
       ],
       "layout": "IPY_MODEL_a7b94bb2ee074875bd8619a7b41e4a6b"
      }
     },
     "642f9ead3c164373af9effe3c54c2930": {
      "model_module": "@jupyter-widgets/controls",
      "model_module_version": "1.4.0",
      "model_name": "VBoxModel",
      "state": {
       "_dom_classes": [
        "widget-interact"
       ],
       "children": [
        "IPY_MODEL_e8fbf4a1ede844d9b37aa58caec3fbbd",
        "IPY_MODEL_a68ac0133627489ca8f45d42b276fe2f"
       ],
       "layout": "IPY_MODEL_a18845435212411bae970edd979b5ef5"
      }
     },
     "6432494167314dfe88d80997f74b80c3": {
      "model_module": "@jupyter-widgets/output",
      "model_module_version": "1.0.0",
      "model_name": "OutputModel",
      "state": {
       "layout": "IPY_MODEL_5935cd92cb6a4518b072477428f1aa92",
       "outputs": [
        {
         "name": "stdout",
         "output_type": "stream",
         "text": "The total number of liganded states for 10 sites is:  1024\n"
        },
        {
         "ename": "NameError",
         "evalue": "name 'scipy' is not defined",
         "output_type": "error",
         "traceback": [
          "\u001b[0;31m---------------------------------------------------------------------------\u001b[0m",
          "\u001b[0;31mNameError\u001b[0m                                 Traceback (most recent call last)",
          "\u001b[0;32m/anaconda3/lib/python3.7/site-packages/ipywidgets/widgets/interaction.py\u001b[0m in \u001b[0;36mupdate\u001b[0;34m(self, *args)\u001b[0m\n\u001b[1;32m    249\u001b[0m                     \u001b[0mvalue\u001b[0m \u001b[0;34m=\u001b[0m \u001b[0mwidget\u001b[0m\u001b[0;34m.\u001b[0m\u001b[0mget_interact_value\u001b[0m\u001b[0;34m(\u001b[0m\u001b[0;34m)\u001b[0m\u001b[0;34m\u001b[0m\u001b[0;34m\u001b[0m\u001b[0m\n\u001b[1;32m    250\u001b[0m                     \u001b[0mself\u001b[0m\u001b[0;34m.\u001b[0m\u001b[0mkwargs\u001b[0m\u001b[0;34m[\u001b[0m\u001b[0mwidget\u001b[0m\u001b[0;34m.\u001b[0m\u001b[0m_kwarg\u001b[0m\u001b[0;34m]\u001b[0m \u001b[0;34m=\u001b[0m \u001b[0mvalue\u001b[0m\u001b[0;34m\u001b[0m\u001b[0;34m\u001b[0m\u001b[0m\n\u001b[0;32m--> 251\u001b[0;31m                 \u001b[0mself\u001b[0m\u001b[0;34m.\u001b[0m\u001b[0mresult\u001b[0m \u001b[0;34m=\u001b[0m \u001b[0mself\u001b[0m\u001b[0;34m.\u001b[0m\u001b[0mf\u001b[0m\u001b[0;34m(\u001b[0m\u001b[0;34m**\u001b[0m\u001b[0mself\u001b[0m\u001b[0;34m.\u001b[0m\u001b[0mkwargs\u001b[0m\u001b[0;34m)\u001b[0m\u001b[0;34m\u001b[0m\u001b[0;34m\u001b[0m\u001b[0m\n\u001b[0m\u001b[1;32m    252\u001b[0m                 \u001b[0mshow_inline_matplotlib_plots\u001b[0m\u001b[0;34m(\u001b[0m\u001b[0;34m)\u001b[0m\u001b[0;34m\u001b[0m\u001b[0;34m\u001b[0m\u001b[0m\n\u001b[1;32m    253\u001b[0m                 \u001b[0;32mif\u001b[0m \u001b[0mself\u001b[0m\u001b[0;34m.\u001b[0m\u001b[0mauto_display\u001b[0m \u001b[0;32mand\u001b[0m \u001b[0mself\u001b[0m\u001b[0;34m.\u001b[0m\u001b[0mresult\u001b[0m \u001b[0;32mis\u001b[0m \u001b[0;32mnot\u001b[0m \u001b[0;32mNone\u001b[0m\u001b[0;34m:\u001b[0m\u001b[0;34m\u001b[0m\u001b[0;34m\u001b[0m\u001b[0m\n",
          "\u001b[0;32m<ipython-input-1-00d38c112579>\u001b[0m in \u001b[0;36mnum_lig_states\u001b[0;34m(n_sites)\u001b[0m\n\u001b[1;32m      8\u001b[0m     \u001b[0;32mfor\u001b[0m \u001b[0mi\u001b[0m \u001b[0;32min\u001b[0m \u001b[0mrange\u001b[0m\u001b[0;34m(\u001b[0m\u001b[0mn_sites\u001b[0m\u001b[0;34m+\u001b[0m\u001b[0;36m1\u001b[0m\u001b[0;34m)\u001b[0m\u001b[0;34m:\u001b[0m\u001b[0;34m\u001b[0m\u001b[0;34m\u001b[0m\u001b[0m\n\u001b[1;32m      9\u001b[0m         print('The number of states with',i,\n\u001b[0;32m---> 10\u001b[0;31m               'ligands bound is:',int(scipy.special.binom(n_sites, i)))\n\u001b[0m\u001b[1;32m     11\u001b[0m \u001b[0;34m\u001b[0m\u001b[0m\n\u001b[1;32m     12\u001b[0m \u001b[0minteractive\u001b[0m\u001b[0;34m(\u001b[0m\u001b[0mnum_lig_states\u001b[0m\u001b[0;34m,\u001b[0m\u001b[0mn_sites\u001b[0m\u001b[0;34m=\u001b[0m\u001b[0;34m(\u001b[0m\u001b[0;36m1\u001b[0m\u001b[0;34m,\u001b[0m\u001b[0;36m10\u001b[0m\u001b[0;34m,\u001b[0m\u001b[0;36m1\u001b[0m\u001b[0;34m)\u001b[0m\u001b[0;34m)\u001b[0m\u001b[0;34m\u001b[0m\u001b[0;34m\u001b[0m\u001b[0m\n",
          "\u001b[0;31mNameError\u001b[0m: name 'scipy' is not defined"
         ]
        }
       ]
      }
     },
     "64fb3874f7744cadbdf2bca960260cbc": {
      "model_module": "@jupyter-widgets/controls",
      "model_module_version": "1.4.0",
      "model_name": "VBoxModel",
      "state": {
       "_dom_classes": [
        "widget-interact"
       ],
       "children": [
        "IPY_MODEL_c7e677c7b23e41ec8056d33d16214605",
        "IPY_MODEL_6b4d5e2340e241b88020ceba25a82e84"
       ],
       "layout": "IPY_MODEL_1bf31b44d61e4d1cafc5bf3ef634c69b"
      }
     },
     "6570cf019c6c4ba3ae3db73f41972571": {
      "model_module": "@jupyter-widgets/output",
      "model_module_version": "1.0.0",
      "model_name": "OutputModel",
      "state": {
       "layout": "IPY_MODEL_4326095b193844e0aba264abefec15c7",
       "outputs": [
        {
         "name": "stdout",
         "output_type": "stream",
         "text": "For computational constraints please keep length of vector(total number of sites) less than or equal to 10.For longer vectors please download the notebook and run locallyor contact martinlrennie@gmail.com.\n"
        }
       ]
      }
     },
     "65fc25e53d1042ef95942cdc1570ff2f": {
      "model_module": "@jupyter-widgets/controls",
      "model_module_version": "1.4.0",
      "model_name": "SliderStyleModel",
      "state": {
       "description_width": ""
      }
     },
     "660dd5b40cc248d4baf20e758ad1df94": {
      "model_module": "@jupyter-widgets/controls",
      "model_module_version": "1.4.0",
      "model_name": "VBoxModel",
      "state": {
       "_dom_classes": [
        "widget-interact"
       ],
       "children": [
        "IPY_MODEL_19ac5bff1c5241aa91ec7fbac7bc0be4",
        "IPY_MODEL_c1d9ac73abed497fadff1c8378d804be"
       ],
       "layout": "IPY_MODEL_4a304ec8e7174ecda7706e3730feb17c"
      }
     },
     "6691dbcd0bf9455387c252a11f4be8ad": {
      "model_module": "@jupyter-widgets/base",
      "model_module_version": "1.1.0",
      "model_name": "LayoutModel",
      "state": {}
     },
     "66a10d01c2884fd2b8fe8dec0534318f": {
      "model_module": "@jupyter-widgets/base",
      "model_module_version": "1.1.0",
      "model_name": "LayoutModel",
      "state": {}
     },
     "697c39208bcf4e8ead6c368a0ec2f0e4": {
      "model_module": "@jupyter-widgets/controls",
      "model_module_version": "1.4.0",
      "model_name": "VBoxModel",
      "state": {
       "_dom_classes": [
        "widget-interact"
       ],
       "children": [
        "IPY_MODEL_3725940fb0724a088c81c513b57ea8ce",
        "IPY_MODEL_290674df674a4007a529e29ed2b0fa5d"
       ],
       "layout": "IPY_MODEL_595cd98eaed24a5dbd83ff4509cea43f"
      }
     },
     "6a392c57561e4b1ab2cadd90c3e25a79": {
      "model_module": "@jupyter-widgets/base",
      "model_module_version": "1.1.0",
      "model_name": "LayoutModel",
      "state": {}
     },
     "6b4d5e2340e241b88020ceba25a82e84": {
      "model_module": "@jupyter-widgets/output",
      "model_module_version": "1.0.0",
      "model_name": "OutputModel",
      "state": {
       "layout": "IPY_MODEL_3e75a95c1ee0449fab8b4cae4efc462e",
       "outputs": [
        {
         "name": "stdout",
         "output_type": "stream",
         "text": "The total number of liganded states for 4 sites is:  16 \n\nThe number of states with 0 ligands bound is: 1\nThe number of states with 1 ligands bound is: 4\nThe number of states with 2 ligands bound is: 6\nThe number of states with 3 ligands bound is: 4\nThe number of states with 4 ligands bound is: 1\n"
        }
       ]
      }
     },
     "6bc034c3f7564922b9f68c7124c48999": {
      "model_module": "@jupyter-widgets/controls",
      "model_module_version": "1.4.0",
      "model_name": "VBoxModel",
      "state": {
       "_dom_classes": [
        "widget-interact"
       ],
       "children": [
        "IPY_MODEL_837afaf7399c4401a5089065f9bd96e3",
        "IPY_MODEL_8c740973fa5c4732b3f00a7843a6d039"
       ],
       "layout": "IPY_MODEL_8f966ac9a5914f04ada79d2901651a1b"
      }
     },
     "6be019935eed46eaa9d69c3a078ed12e": {
      "model_module": "@jupyter-widgets/controls",
      "model_module_version": "1.4.0",
      "model_name": "DescriptionStyleModel",
      "state": {
       "description_width": ""
      }
     },
     "6d69fadb49af4a1198e7f5c29dfed350": {
      "model_module": "@jupyter-widgets/base",
      "model_module_version": "1.1.0",
      "model_name": "LayoutModel",
      "state": {}
     },
     "6e0d62135e984934bd1cd48568589cc2": {
      "model_module": "@jupyter-widgets/controls",
      "model_module_version": "1.4.0",
      "model_name": "VBoxModel",
      "state": {
       "_dom_classes": [
        "widget-interact"
       ],
       "children": [
        "IPY_MODEL_9eef0800b6cf446786197febc4b1c5db",
        "IPY_MODEL_5df44598f15c44c4841f783e4ef40595"
       ],
       "layout": "IPY_MODEL_cf21c582183146d5ab8251047ff01271"
      }
     },
     "6ebb2aca85cd47969b9c3816ec51fe4e": {
      "model_module": "@jupyter-widgets/controls",
      "model_module_version": "1.4.0",
      "model_name": "DescriptionStyleModel",
      "state": {
       "description_width": ""
      }
     },
     "6ec7be9ab38942348c089281fb4dc328": {
      "model_module": "@jupyter-widgets/controls",
      "model_module_version": "1.4.0",
      "model_name": "SliderStyleModel",
      "state": {
       "description_width": ""
      }
     },
     "6f095ee8b9bf41e5addd47f77696c0d2": {
      "model_module": "@jupyter-widgets/output",
      "model_module_version": "1.0.0",
      "model_name": "OutputModel",
      "state": {
       "layout": "IPY_MODEL_9e0846ea0ba045b1922bb9c12a171817",
       "outputs": [
        {
         "data": {
          "text/latex": "$\\displaystyle [M_{1001}] = \\alpha_{1001}K_{1000}[L_{1}]K_{0001}[L_{4}][M_{0000}]$",
          "text/plain": "<IPython.core.display.Math object>"
         },
         "metadata": {},
         "output_type": "display_data"
        }
       ]
      }
     },
     "6fb676bd048c405ab4051dcf20620122": {
      "model_module": "@jupyter-widgets/base",
      "model_module_version": "1.1.0",
      "model_name": "LayoutModel",
      "state": {}
     },
     "719d1f9c421e4b08b7c6a97f07c00707": {
      "model_module": "@jupyter-widgets/base",
      "model_module_version": "1.1.0",
      "model_name": "LayoutModel",
      "state": {}
     },
     "71f7052ecbbb403f8d215d36d3e095ed": {
      "model_module": "@jupyter-widgets/controls",
      "model_module_version": "1.4.0",
      "model_name": "IntSliderModel",
      "state": {
       "description": "n_sites",
       "layout": "IPY_MODEL_54e664e3081a462d99477271b897b182",
       "max": 10,
       "min": 1,
       "style": "IPY_MODEL_ae843d56e31a4a9493c3acf3ba6a33dd",
       "value": 5
      }
     },
     "77a10f521cb147f998cf2d0ebea12f61": {
      "model_module": "@jupyter-widgets/base",
      "model_module_version": "1.1.0",
      "model_name": "LayoutModel",
      "state": {}
     },
     "798c509000ee40189c7e2d60abe3964a": {
      "model_module": "@jupyter-widgets/controls",
      "model_module_version": "1.4.0",
      "model_name": "VBoxModel",
      "state": {
       "_dom_classes": [
        "widget-interact"
       ],
       "children": [
        "IPY_MODEL_81cb438661ce4dacb6612cd0e44a3996",
        "IPY_MODEL_47d1adaec8a24f9385a1f88fcba2f67f"
       ],
       "layout": "IPY_MODEL_40122de31cb044e99e7db6255b8a80f5"
      }
     },
     "7aa30ef55c01482bb6b3d615c313a39f": {
      "model_module": "@jupyter-widgets/controls",
      "model_module_version": "1.4.0",
      "model_name": "IntSliderModel",
      "state": {
       "description": "n_sites",
       "layout": "IPY_MODEL_b6e861f188814e3fa7fe05cb32d68dca",
       "max": 10,
       "min": 1,
       "style": "IPY_MODEL_a0cf48e3b6fa4170a1ee9d89bff1aee1",
       "value": 3
      }
     },
     "7ac61451c0d64251896ed90d3cd83d95": {
      "model_module": "@jupyter-widgets/base",
      "model_module_version": "1.1.0",
      "model_name": "LayoutModel",
      "state": {}
     },
     "7b4ea3a93e654e3183797e725aeef2a6": {
      "model_module": "@jupyter-widgets/controls",
      "model_module_version": "1.4.0",
      "model_name": "TextModel",
      "state": {
       "description": "B",
       "layout": "IPY_MODEL_e96bd9b36e5447a0a214cfcdd08f47bc",
       "style": "IPY_MODEL_2112d47e7be6462082e547f87b8daf42",
       "value": "10010000000"
      }
     },
     "7c8dfa9a8e43424593cf1805acc583ea": {
      "model_module": "@jupyter-widgets/base",
      "model_module_version": "1.1.0",
      "model_name": "LayoutModel",
      "state": {}
     },
     "7dd82479cea247aaa34a9d3cc783c8fa": {
      "model_module": "@jupyter-widgets/controls",
      "model_module_version": "1.4.0",
      "model_name": "SliderStyleModel",
      "state": {
       "description_width": ""
      }
     },
     "7f4c3a1828ce41d9a2645064b7034636": {
      "model_module": "@jupyter-widgets/base",
      "model_module_version": "1.1.0",
      "model_name": "LayoutModel",
      "state": {}
     },
     "7fb1d5da8c4a4939b0cb7380f6853aba": {
      "model_module": "@jupyter-widgets/controls",
      "model_module_version": "1.4.0",
      "model_name": "IntSliderModel",
      "state": {
       "description": "n_sites",
       "layout": "IPY_MODEL_77a10f521cb147f998cf2d0ebea12f61",
       "max": 10,
       "min": 1,
       "style": "IPY_MODEL_226d9fe919374317a8c85bda8323bd14",
       "value": 5
      }
     },
     "81402b1ba13d4c63b85ed644422f08f6": {
      "model_module": "@jupyter-widgets/base",
      "model_module_version": "1.1.0",
      "model_name": "LayoutModel",
      "state": {}
     },
     "81cb438661ce4dacb6612cd0e44a3996": {
      "model_module": "@jupyter-widgets/controls",
      "model_module_version": "1.4.0",
      "model_name": "IntSliderModel",
      "state": {
       "description": "n_sites",
       "layout": "IPY_MODEL_db545cb184a64684a10fa6bab715839f",
       "max": 10,
       "min": 1,
       "style": "IPY_MODEL_423c52af75d2498c9b8c1de635f38cee",
       "value": 4
      }
     },
     "82948eefe6c4475181369541eaffb088": {
      "model_module": "@jupyter-widgets/output",
      "model_module_version": "1.0.0",
      "model_name": "OutputModel",
      "state": {
       "layout": "IPY_MODEL_5599d51445f346358bcaeb69058816a7",
       "outputs": [
        {
         "data": {
          "text/latex": "$\\displaystyle [M_{00001}] = K_{00001}[L_{5}][M_{00000}]$",
          "text/plain": "<IPython.core.display.Math object>"
         },
         "metadata": {},
         "output_type": "display_data"
        }
       ]
      }
     },
     "837afaf7399c4401a5089065f9bd96e3": {
      "model_module": "@jupyter-widgets/controls",
      "model_module_version": "1.4.0",
      "model_name": "IntSliderModel",
      "state": {
       "description": "n_sites",
       "layout": "IPY_MODEL_2900ac5f727a46018f43223354935df0",
       "max": 10,
       "min": 1,
       "style": "IPY_MODEL_3faa75f788464a438e6ec3472636ac19",
       "value": 5
      }
     },
     "84c612aa3bfc4c86b659f8bfb7f7f977": {
      "model_module": "@jupyter-widgets/output",
      "model_module_version": "1.0.0",
      "model_name": "OutputModel",
      "state": {
       "layout": "IPY_MODEL_3eac89d553104340a85fe2bb73b08855",
       "outputs": [
        {
         "name": "stdout",
         "output_type": "stream",
         "text": "The total number of liganded states for 5 sites is:  32\n\nThe number of states with 0 ligands bound is: 1\n\nThe number of states with 1 ligands bound is: 5\n\nThe number of states with 2 ligands bound is: 10\n\nThe number of states with 3 ligands bound is: 10\n\nThe number of states with 4 ligands bound is: 5\n\nThe number of states with 5 ligands bound is: 1\n"
        }
       ]
      }
     },
     "8539ca1512e5477f97004e1d809d28df": {
      "model_module": "@jupyter-widgets/base",
      "model_module_version": "1.1.0",
      "model_name": "LayoutModel",
      "state": {}
     },
     "86200bac97154ea0b1bbc3b8e66b184a": {
      "model_module": "@jupyter-widgets/controls",
      "model_module_version": "1.4.0",
      "model_name": "VBoxModel",
      "state": {
       "_dom_classes": [
        "widget-interact"
       ],
       "children": [
        "IPY_MODEL_d09ec47a46124058b387d93c9ebeb510",
        "IPY_MODEL_8bb9bebcbc7840baa563e81a285f02d6"
       ],
       "layout": "IPY_MODEL_f489fe65b7d54d47a612a5cbf8e8e5b2"
      }
     },
     "865650035ffe45b3ae381a5194c1180b": {
      "model_module": "@jupyter-widgets/output",
      "model_module_version": "1.0.0",
      "model_name": "OutputModel",
      "state": {
       "layout": "IPY_MODEL_e2e75757774b4579aa167541dac2a398",
       "outputs": [
        {
         "name": "stdout",
         "output_type": "stream",
         "text": "For computational constraints please keep length of vector(total number of sites) less than or equal to 10.\nFor longer vectors please download the notebook and run locallyor contact martinlrennie@gmail.com.\n"
        },
        {
         "data": {
          "text/latex": "$\\displaystyle [M_{10010000000}] = \\alpha_{10010000000}K_{10000000000}[L_{1}]K_{00010000000}[L_{4}][M_{00000000000}]$",
          "text/plain": "<IPython.core.display.Math object>"
         },
         "metadata": {},
         "output_type": "display_data"
        }
       ]
      }
     },
     "86874f41326946d185c4da6c334d7f40": {
      "model_module": "@jupyter-widgets/base",
      "model_module_version": "1.1.0",
      "model_name": "LayoutModel",
      "state": {}
     },
     "872ab93286f04acf8d12dca6e85e9753": {
      "model_module": "@jupyter-widgets/controls",
      "model_module_version": "1.4.0",
      "model_name": "VBoxModel",
      "state": {
       "_dom_classes": [
        "widget-interact"
       ],
       "children": [
        "IPY_MODEL_2fc99c5ddf0e434ba47f86a0beea87de",
        "IPY_MODEL_123944530bea437b9b776d0830dc5ed5"
       ],
       "layout": "IPY_MODEL_0ba33dcb94314cad9585e3809e408a7a"
      }
     },
     "884bbbd4aca2460292f6a3a399b3ceb0": {
      "model_module": "@jupyter-widgets/controls",
      "model_module_version": "1.4.0",
      "model_name": "VBoxModel",
      "state": {
       "_dom_classes": [
        "widget-interact"
       ],
       "children": [
        "IPY_MODEL_11ce91b7674f49a4bffe4138dd3a8e6c",
        "IPY_MODEL_dff016ae3ed04141ae78f9c74f8ab4b8"
       ],
       "layout": "IPY_MODEL_5150110d45fb466aa80025c03b652f53"
      }
     },
     "88599c006f6c4f2898886be87fd5946a": {
      "model_module": "@jupyter-widgets/controls",
      "model_module_version": "1.4.0",
      "model_name": "SliderStyleModel",
      "state": {
       "description_width": ""
      }
     },
     "88bcadc930fb42a0862c9fc4ba44e240": {
      "model_module": "@jupyter-widgets/controls",
      "model_module_version": "1.4.0",
      "model_name": "IntSliderModel",
      "state": {
       "description": "n_sites",
       "layout": "IPY_MODEL_6d69fadb49af4a1198e7f5c29dfed350",
       "max": 10,
       "min": 1,
       "style": "IPY_MODEL_1f8386d1a04b4752a487280bea8b7112",
       "value": 3
      }
     },
     "88dc604ad44d4c1f8542d62d4475cdc7": {
      "model_module": "@jupyter-widgets/base",
      "model_module_version": "1.1.0",
      "model_name": "LayoutModel",
      "state": {}
     },
     "8b453a001d1142db83ce85b3b87b799d": {
      "model_module": "@jupyter-widgets/controls",
      "model_module_version": "1.4.0",
      "model_name": "IntSliderModel",
      "state": {
       "description": "n_sites",
       "layout": "IPY_MODEL_1dba15be24904f689ec2ce6f8a47eeec",
       "max": 10,
       "min": 1,
       "style": "IPY_MODEL_340805d406b7470f8800c57ec80f632e",
       "value": 5
      }
     },
     "8bb9bebcbc7840baa563e81a285f02d6": {
      "model_module": "@jupyter-widgets/output",
      "model_module_version": "1.0.0",
      "model_name": "OutputModel",
      "state": {
       "layout": "IPY_MODEL_de1d37f4c4014e52a808410b0e3fbc11",
       "outputs": [
        {
         "ename": "NameError",
         "evalue": "name 'grouped_states' is not defined",
         "output_type": "error",
         "traceback": [
          "\u001b[0;31m---------------------------------------------------------------------------\u001b[0m",
          "\u001b[0;31mNameError\u001b[0m                                 Traceback (most recent call last)",
          "\u001b[0;32m/anaconda3/lib/python3.7/site-packages/ipywidgets/widgets/interaction.py\u001b[0m in \u001b[0;36mupdate\u001b[0;34m(self, *args)\u001b[0m\n\u001b[1;32m    249\u001b[0m                     \u001b[0mvalue\u001b[0m \u001b[0;34m=\u001b[0m \u001b[0mwidget\u001b[0m\u001b[0;34m.\u001b[0m\u001b[0mget_interact_value\u001b[0m\u001b[0;34m(\u001b[0m\u001b[0;34m)\u001b[0m\u001b[0;34m\u001b[0m\u001b[0;34m\u001b[0m\u001b[0m\n\u001b[1;32m    250\u001b[0m                     \u001b[0mself\u001b[0m\u001b[0;34m.\u001b[0m\u001b[0mkwargs\u001b[0m\u001b[0;34m[\u001b[0m\u001b[0mwidget\u001b[0m\u001b[0;34m.\u001b[0m\u001b[0m_kwarg\u001b[0m\u001b[0;34m]\u001b[0m \u001b[0;34m=\u001b[0m \u001b[0mvalue\u001b[0m\u001b[0;34m\u001b[0m\u001b[0;34m\u001b[0m\u001b[0m\n\u001b[0;32m--> 251\u001b[0;31m                 \u001b[0mself\u001b[0m\u001b[0;34m.\u001b[0m\u001b[0mresult\u001b[0m \u001b[0;34m=\u001b[0m \u001b[0mself\u001b[0m\u001b[0;34m.\u001b[0m\u001b[0mf\u001b[0m\u001b[0;34m(\u001b[0m\u001b[0;34m**\u001b[0m\u001b[0mself\u001b[0m\u001b[0;34m.\u001b[0m\u001b[0mkwargs\u001b[0m\u001b[0;34m)\u001b[0m\u001b[0;34m\u001b[0m\u001b[0;34m\u001b[0m\u001b[0m\n\u001b[0m\u001b[1;32m    252\u001b[0m                 \u001b[0mshow_inline_matplotlib_plots\u001b[0m\u001b[0;34m(\u001b[0m\u001b[0;34m)\u001b[0m\u001b[0;34m\u001b[0m\u001b[0;34m\u001b[0m\u001b[0m\n\u001b[1;32m    253\u001b[0m                 \u001b[0;32mif\u001b[0m \u001b[0mself\u001b[0m\u001b[0;34m.\u001b[0m\u001b[0mauto_display\u001b[0m \u001b[0;32mand\u001b[0m \u001b[0mself\u001b[0m\u001b[0;34m.\u001b[0m\u001b[0mresult\u001b[0m \u001b[0;32mis\u001b[0m \u001b[0;32mnot\u001b[0m \u001b[0;32mNone\u001b[0m\u001b[0;34m:\u001b[0m\u001b[0;34m\u001b[0m\u001b[0;34m\u001b[0m\u001b[0m\n",
          "\u001b[0;32m<ipython-input-15-41bb5faa7ed4>\u001b[0m in \u001b[0;36mrepresent_cyclic_states\u001b[0;34m(n_sites)\u001b[0m\n\u001b[1;32m      7\u001b[0m \u001b[0;34m\u001b[0m\u001b[0m\n\u001b[1;32m      8\u001b[0m     \u001b[0mcyclic_states\u001b[0m \u001b[0;34m=\u001b[0m \u001b[0;34m[\u001b[0m\u001b[0;34m[\u001b[0m\u001b[0;34m]\u001b[0m \u001b[0;32mfor\u001b[0m \u001b[0mi\u001b[0m \u001b[0;32min\u001b[0m \u001b[0mrange\u001b[0m\u001b[0;34m(\u001b[0m\u001b[0mn_sites\u001b[0m\u001b[0;34m+\u001b[0m\u001b[0;36m1\u001b[0m\u001b[0;34m)\u001b[0m\u001b[0;34m]\u001b[0m\u001b[0;34m\u001b[0m\u001b[0;34m\u001b[0m\u001b[0m\n\u001b[0;32m----> 9\u001b[0;31m     \u001b[0;32mfor\u001b[0m \u001b[0mi\u001b[0m\u001b[0;34m,\u001b[0m\u001b[0mstates\u001b[0m \u001b[0;32min\u001b[0m \u001b[0menumerate\u001b[0m\u001b[0;34m(\u001b[0m\u001b[0mgrouped_states\u001b[0m\u001b[0;34m)\u001b[0m\u001b[0;34m:\u001b[0m\u001b[0;34m\u001b[0m\u001b[0;34m\u001b[0m\u001b[0m\n\u001b[0m\u001b[1;32m     10\u001b[0m \u001b[0;34m\u001b[0m\u001b[0m\n\u001b[1;32m     11\u001b[0m         \u001b[0;31m# create a copy as the base for a cyclic list\u001b[0m\u001b[0;34m\u001b[0m\u001b[0;34m\u001b[0m\u001b[0;34m\u001b[0m\u001b[0m\n",
          "\u001b[0;31mNameError\u001b[0m: name 'grouped_states' is not defined"
         ]
        }
       ]
      }
     },
     "8c740973fa5c4732b3f00a7843a6d039": {
      "model_module": "@jupyter-widgets/output",
      "model_module_version": "1.0.0",
      "model_name": "OutputModel",
      "state": {
       "layout": "IPY_MODEL_5d6619cda32a442a8b6f295a4447f930",
       "outputs": [
        {
         "name": "stdout",
         "output_type": "stream",
         "text": "The total number of liganded states for 5 sites is:  32\nThe number of states with 0 ligands bound is: 1\nThe number of states with 1 ligands bound is: 5\nThe number of states with 2 ligands bound is: 10\nThe number of states with 3 ligands bound is: 10\nThe number of states with 4 ligands bound is: 5\nThe number of states with 5 ligands bound is: 1\n"
        }
       ]
      }
     },
     "8d2fc4e6374e4a6a89215f148159c584": {
      "model_module": "@jupyter-widgets/controls",
      "model_module_version": "1.4.0",
      "model_name": "VBoxModel",
      "state": {
       "_dom_classes": [
        "widget-interact"
       ],
       "children": [
        "IPY_MODEL_e63de0523dd74754be8b679cd7c90e7e",
        "IPY_MODEL_6432494167314dfe88d80997f74b80c3"
       ],
       "layout": "IPY_MODEL_94fdb786679040fe921db2edcf8cf441"
      }
     },
     "8e0854bf11d34d3183acd9a2bb5aa39d": {
      "model_module": "@jupyter-widgets/base",
      "model_module_version": "1.1.0",
      "model_name": "LayoutModel",
      "state": {}
     },
     "8f12c8eda9e74b48b26de04918467614": {
      "model_module": "@jupyter-widgets/controls",
      "model_module_version": "1.4.0",
      "model_name": "VBoxModel",
      "state": {
       "_dom_classes": [
        "widget-interact"
       ],
       "children": [
        "IPY_MODEL_949c9769fabc4fba98b704e126175f9d",
        "IPY_MODEL_9926ee175aa94b7eb9af773b86296b84"
       ],
       "layout": "IPY_MODEL_8fee3e4a3c5a4623bf15f0776f69e96b"
      }
     },
     "8f966ac9a5914f04ada79d2901651a1b": {
      "model_module": "@jupyter-widgets/base",
      "model_module_version": "1.1.0",
      "model_name": "LayoutModel",
      "state": {}
     },
     "8fee3e4a3c5a4623bf15f0776f69e96b": {
      "model_module": "@jupyter-widgets/base",
      "model_module_version": "1.1.0",
      "model_name": "LayoutModel",
      "state": {}
     },
     "92d041dd043b4cfaa7ccf0d3dc8784af": {
      "model_module": "@jupyter-widgets/controls",
      "model_module_version": "1.4.0",
      "model_name": "VBoxModel",
      "state": {
       "_dom_classes": [
        "widget-interact"
       ],
       "children": [
        "IPY_MODEL_7fb1d5da8c4a4939b0cb7380f6853aba",
        "IPY_MODEL_45b1e496154647329bcc8639b729e139"
       ],
       "layout": "IPY_MODEL_5c0121342b9a46c5af069ddd3159496a"
      }
     },
     "949c9769fabc4fba98b704e126175f9d": {
      "model_module": "@jupyter-widgets/controls",
      "model_module_version": "1.4.0",
      "model_name": "TextModel",
      "state": {
       "description": "B",
       "layout": "IPY_MODEL_6a392c57561e4b1ab2cadd90c3e25a79",
       "style": "IPY_MODEL_d057358cb03f494fb6a7a6e6ac679041",
       "value": "10100"
      }
     },
     "94b5b0d964fd4bcdbee4bfc1f767ee1a": {
      "model_module": "@jupyter-widgets/controls",
      "model_module_version": "1.4.0",
      "model_name": "VBoxModel",
      "state": {
       "_dom_classes": [
        "widget-interact"
       ],
       "children": [
        "IPY_MODEL_512c406a09474a2cac6f1b4e10ea7015",
        "IPY_MODEL_6f095ee8b9bf41e5addd47f77696c0d2"
       ],
       "layout": "IPY_MODEL_7f4c3a1828ce41d9a2645064b7034636"
      }
     },
     "94fdb786679040fe921db2edcf8cf441": {
      "model_module": "@jupyter-widgets/base",
      "model_module_version": "1.1.0",
      "model_name": "LayoutModel",
      "state": {}
     },
     "966a12d9473c4ded83e9e23e28f3ea80": {
      "model_module": "@jupyter-widgets/base",
      "model_module_version": "1.1.0",
      "model_name": "LayoutModel",
      "state": {}
     },
     "9926ee175aa94b7eb9af773b86296b84": {
      "model_module": "@jupyter-widgets/output",
      "model_module_version": "1.0.0",
      "model_name": "OutputModel",
      "state": {
       "layout": "IPY_MODEL_d9b9ec771e9443ab89272cbec5e397f9",
       "outputs": [
        {
         "data": {
          "text/latex": "$\\displaystyle [M_{10100}] = \\alpha_{10100}K_{10000}[L_{1}]K_{00100}[L_{1}][M_{00000}]$",
          "text/plain": "<IPython.core.display.Math object>"
         },
         "metadata": {},
         "output_type": "display_data"
        }
       ]
      }
     },
     "9a8684357da148689efe0ae6b010c8c6": {
      "model_module": "@jupyter-widgets/base",
      "model_module_version": "1.1.0",
      "model_name": "LayoutModel",
      "state": {}
     },
     "9a88db19b2554db39bd33566e8a3bcb3": {
      "model_module": "@jupyter-widgets/base",
      "model_module_version": "1.1.0",
      "model_name": "LayoutModel",
      "state": {}
     },
     "9ca196050f4c405090cef52af6c522a7": {
      "model_module": "@jupyter-widgets/controls",
      "model_module_version": "1.4.0",
      "model_name": "VBoxModel",
      "state": {
       "_dom_classes": [
        "widget-interact"
       ],
       "children": [
        "IPY_MODEL_d2ddf0db970a4f13827d9cc41fc73352",
        "IPY_MODEL_6570cf019c6c4ba3ae3db73f41972571"
       ],
       "layout": "IPY_MODEL_badc1aa2cbc64c36a44e1e6a29bcdf36"
      }
     },
     "9d90c08c5f0c40b29421047d8040adee": {
      "model_module": "@jupyter-widgets/base",
      "model_module_version": "1.1.0",
      "model_name": "LayoutModel",
      "state": {}
     },
     "9e0846ea0ba045b1922bb9c12a171817": {
      "model_module": "@jupyter-widgets/base",
      "model_module_version": "1.1.0",
      "model_name": "LayoutModel",
      "state": {}
     },
     "9e90a89e222346bbb892f1481293163e": {
      "model_module": "@jupyter-widgets/base",
      "model_module_version": "1.1.0",
      "model_name": "LayoutModel",
      "state": {}
     },
     "9eef0800b6cf446786197febc4b1c5db": {
      "model_module": "@jupyter-widgets/controls",
      "model_module_version": "1.4.0",
      "model_name": "TextModel",
      "state": {
       "description": "B",
       "layout": "IPY_MODEL_966a12d9473c4ded83e9e23e28f3ea80",
       "style": "IPY_MODEL_3cf36da4e87d4e7f955bef87bbb50e1b",
       "value": "10010000000"
      }
     },
     "9f12b90475d64cc5aaee884854d627d4": {
      "model_module": "@jupyter-widgets/output",
      "model_module_version": "1.0.0",
      "model_name": "OutputModel",
      "state": {
       "layout": "IPY_MODEL_004c4d991bfe482983f230d394f6c79e",
       "outputs": [
        {
         "name": "stdout",
         "output_type": "stream",
         "text": "For computational constraints please keep length of vector(total number of sites) less than or equal to 10.\n For longer vectors please download the notebook and run locallyor contact martinlrennie@gmail.com.\n"
        }
       ]
      }
     },
     "9f831efad26f42eca8f94a8d1a4314ca": {
      "model_module": "@jupyter-widgets/base",
      "model_module_version": "1.1.0",
      "model_name": "LayoutModel",
      "state": {}
     },
     "a0cf48e3b6fa4170a1ee9d89bff1aee1": {
      "model_module": "@jupyter-widgets/controls",
      "model_module_version": "1.4.0",
      "model_name": "SliderStyleModel",
      "state": {
       "description_width": ""
      }
     },
     "a18845435212411bae970edd979b5ef5": {
      "model_module": "@jupyter-widgets/base",
      "model_module_version": "1.1.0",
      "model_name": "LayoutModel",
      "state": {}
     },
     "a3c6b3519a554129a096a9289211948b": {
      "model_module": "@jupyter-widgets/base",
      "model_module_version": "1.1.0",
      "model_name": "LayoutModel",
      "state": {}
     },
     "a4ecbd857a274e63bb72f37ee10db8b8": {
      "model_module": "@jupyter-widgets/controls",
      "model_module_version": "1.4.0",
      "model_name": "TextModel",
      "state": {
       "description": "B",
       "layout": "IPY_MODEL_9d90c08c5f0c40b29421047d8040adee",
       "style": "IPY_MODEL_6ebb2aca85cd47969b9c3816ec51fe4e",
       "value": "10010000000"
      }
     },
     "a56ff88757ba4554bbc3bee505069957": {
      "model_module": "@jupyter-widgets/controls",
      "model_module_version": "1.4.0",
      "model_name": "DescriptionStyleModel",
      "state": {
       "description_width": ""
      }
     },
     "a68ac0133627489ca8f45d42b276fe2f": {
      "model_module": "@jupyter-widgets/output",
      "model_module_version": "1.0.0",
      "model_name": "OutputModel",
      "state": {
       "layout": "IPY_MODEL_7ac61451c0d64251896ed90d3cd83d95",
       "outputs": [
        {
         "data": {
          "text/latex": "$\\displaystyle [M_{10010001011}] = \\alpha_{10010001011}\\alpha_{10010001010}\\alpha_{10010001001}\\alpha_{10010001000}\\alpha_{10010000011}\\alpha_{10010000010}\\alpha_{10010000001}\\alpha_{10010000000}\\alpha_{10000001011}\\alpha_{10000001010}\\alpha_{10000001001}\\alpha_{10000001000}\\alpha_{10000000011}\\alpha_{10000000010}\\alpha_{10000000001}K_{10000000000}[L_{1}]\\alpha_{00010001011}\\alpha_{00010001010}\\alpha_{00010001001}\\alpha_{00010001000}\\alpha_{00010000011}\\alpha_{00010000010}\\alpha_{00010000001}K_{00010000000}[L_{4}]\\alpha_{00000001011}\\alpha_{00000001010}\\alpha_{00000001001}K_{00000001000}[L_{8}]\\alpha_{00000000011}K_{00000000010}[L_{10}]K_{00000000001}[L_{11}][M_{00000000000}]$",
          "text/plain": "<IPython.core.display.Math object>"
         },
         "metadata": {},
         "output_type": "display_data"
        }
       ]
      }
     },
     "a77110f950b94eb6a3fe177d7e1d7aeb": {
      "model_module": "@jupyter-widgets/controls",
      "model_module_version": "1.4.0",
      "model_name": "VBoxModel",
      "state": {
       "_dom_classes": [
        "widget-interact"
       ],
       "children": [
        "IPY_MODEL_a4ecbd857a274e63bb72f37ee10db8b8",
        "IPY_MODEL_865650035ffe45b3ae381a5194c1180b"
       ],
       "layout": "IPY_MODEL_f51bcb3180d645dcbcc0995bc2477fd3"
      }
     },
     "a7b94bb2ee074875bd8619a7b41e4a6b": {
      "model_module": "@jupyter-widgets/base",
      "model_module_version": "1.1.0",
      "model_name": "LayoutModel",
      "state": {}
     },
     "ab98de5865f34f3f91bb8fd53ed156bd": {
      "model_module": "@jupyter-widgets/base",
      "model_module_version": "1.1.0",
      "model_name": "LayoutModel",
      "state": {}
     },
     "abac386fc8714a3aa223d4cc5aaafd0a": {
      "model_module": "@jupyter-widgets/base",
      "model_module_version": "1.1.0",
      "model_name": "LayoutModel",
      "state": {}
     },
     "ad17cdb17ec143f4a68cf0b74c347c81": {
      "model_module": "@jupyter-widgets/controls",
      "model_module_version": "1.4.0",
      "model_name": "VBoxModel",
      "state": {
       "_dom_classes": [
        "widget-interact"
       ],
       "children": [
        "IPY_MODEL_404f95a00eab4fd7b817d96bc5ee413a",
        "IPY_MODEL_2cd29a9aabd84a0dae925fdb06228260"
       ],
       "layout": "IPY_MODEL_abac386fc8714a3aa223d4cc5aaafd0a"
      }
     },
     "ad9963543d1947b8b2a49290a636f7ea": {
      "model_module": "@jupyter-widgets/base",
      "model_module_version": "1.1.0",
      "model_name": "LayoutModel",
      "state": {}
     },
     "ade5bd6603f14d2da271102dee23281e": {
      "model_module": "@jupyter-widgets/base",
      "model_module_version": "1.1.0",
      "model_name": "LayoutModel",
      "state": {}
     },
     "ae843d56e31a4a9493c3acf3ba6a33dd": {
      "model_module": "@jupyter-widgets/controls",
      "model_module_version": "1.4.0",
      "model_name": "SliderStyleModel",
      "state": {
       "description_width": ""
      }
     },
     "af3a062183c24855befaecc867b26e02": {
      "model_module": "@jupyter-widgets/controls",
      "model_module_version": "1.4.0",
      "model_name": "IntSliderModel",
      "state": {
       "description": "n_sites",
       "layout": "IPY_MODEL_3343488a8a094857a094981bf5c97632",
       "max": 10,
       "min": 1,
       "style": "IPY_MODEL_f2d976059b23477b80eb7248a30f9ebb",
       "value": 5
      }
     },
     "af721c4d07ad4ad4ad8eb3a4df69c152": {
      "model_module": "@jupyter-widgets/base",
      "model_module_version": "1.1.0",
      "model_name": "LayoutModel",
      "state": {}
     },
     "b0bc0ba68a654433af9d6d230fc88892": {
      "model_module": "@jupyter-widgets/base",
      "model_module_version": "1.1.0",
      "model_name": "LayoutModel",
      "state": {}
     },
     "b1072e138fe642538902b1589af31321": {
      "model_module": "@jupyter-widgets/controls",
      "model_module_version": "1.4.0",
      "model_name": "VBoxModel",
      "state": {
       "_dom_classes": [
        "widget-interact"
       ],
       "children": [
        "IPY_MODEL_bbf84527ee5b48f9b67e48eedf18238f",
        "IPY_MODEL_da1e670b381241f08426831cda4cfa22"
       ],
       "layout": "IPY_MODEL_f6951365856741d897022bcfbe32d345"
      }
     },
     "b110fa7fe3fb4ff7ae4dae3a5db6d9c5": {
      "model_module": "@jupyter-widgets/base",
      "model_module_version": "1.1.0",
      "model_name": "LayoutModel",
      "state": {}
     },
     "b554693844144a3b96787baeb4011824": {
      "model_module": "@jupyter-widgets/base",
      "model_module_version": "1.1.0",
      "model_name": "LayoutModel",
      "state": {}
     },
     "b6e861f188814e3fa7fe05cb32d68dca": {
      "model_module": "@jupyter-widgets/base",
      "model_module_version": "1.1.0",
      "model_name": "LayoutModel",
      "state": {}
     },
     "badc1aa2cbc64c36a44e1e6a29bcdf36": {
      "model_module": "@jupyter-widgets/base",
      "model_module_version": "1.1.0",
      "model_name": "LayoutModel",
      "state": {}
     },
     "bb19c0eb9d2a466da0d295926885625c": {
      "model_module": "@jupyter-widgets/controls",
      "model_module_version": "1.4.0",
      "model_name": "DescriptionStyleModel",
      "state": {
       "description_width": ""
      }
     },
     "bbe66503398e4886babf2529dd60f42b": {
      "model_module": "@jupyter-widgets/base",
      "model_module_version": "1.1.0",
      "model_name": "LayoutModel",
      "state": {}
     },
     "bbf84527ee5b48f9b67e48eedf18238f": {
      "model_module": "@jupyter-widgets/controls",
      "model_module_version": "1.4.0",
      "model_name": "TextModel",
      "state": {
       "description": "B",
       "layout": "IPY_MODEL_a3c6b3519a554129a096a9289211948b",
       "style": "IPY_MODEL_a56ff88757ba4554bbc3bee505069957",
       "value": "10010000000"
      }
     },
     "bc8e938a6f934835937e9b17cb5c2eb7": {
      "model_module": "@jupyter-widgets/controls",
      "model_module_version": "1.4.0",
      "model_name": "VBoxModel",
      "state": {
       "_dom_classes": [
        "widget-interact"
       ],
       "children": [
        "IPY_MODEL_7b4ea3a93e654e3183797e725aeef2a6",
        "IPY_MODEL_4843ef0f87c4479b9ecf8837b3c38a34"
       ],
       "layout": "IPY_MODEL_af721c4d07ad4ad4ad8eb3a4df69c152"
      }
     },
     "bd2cf939b5e94e1e82980f9566b1ad40": {
      "model_module": "@jupyter-widgets/controls",
      "model_module_version": "1.4.0",
      "model_name": "IntSliderModel",
      "state": {
       "description": "n_sites",
       "layout": "IPY_MODEL_ade5bd6603f14d2da271102dee23281e",
       "max": 10,
       "min": 1,
       "style": "IPY_MODEL_037757297abe4b99b45a70398dc2140f",
       "value": 5
      }
     },
     "c1d9ac73abed497fadff1c8378d804be": {
      "model_module": "@jupyter-widgets/output",
      "model_module_version": "1.0.0",
      "model_name": "OutputModel",
      "state": {
       "layout": "IPY_MODEL_6fb676bd048c405ab4051dcf20620122",
       "outputs": [
        {
         "name": "stdout",
         "output_type": "stream",
         "text": "States with 0 ligands bound:\n['00000'] \n\nStates with 1 ligands bound:\n['10000', '01000', '00100', '00010', '00001'] \n\nStates with 2 ligands bound:\n['11000', '10100', '10010', '10001', '01100', '01010', '01001', '00110', '00101', '00011'] \n\nStates with 3 ligands bound:\n['11100', '11010', '11001', '10110', '10101', '10011', '01110', '01101', '01011', '00111'] \n\nStates with 4 ligands bound:\n['11110', '11101', '11011', '10111', '01111'] \n\nStates with 5 ligands bound:\n['11111'] \n\n"
        }
       ]
      }
     },
     "c7e677c7b23e41ec8056d33d16214605": {
      "model_module": "@jupyter-widgets/controls",
      "model_module_version": "1.4.0",
      "model_name": "IntSliderModel",
      "state": {
       "description": "n_sites",
       "layout": "IPY_MODEL_e75e7249cf8545f685518f50ab104bab",
       "max": 10,
       "min": 1,
       "style": "IPY_MODEL_11b8c70fd63e4ed1996a397b98277415",
       "value": 4
      }
     },
     "cf21c582183146d5ab8251047ff01271": {
      "model_module": "@jupyter-widgets/base",
      "model_module_version": "1.1.0",
      "model_name": "LayoutModel",
      "state": {}
     },
     "cfd030d159b2443eb34f75844a351778": {
      "model_module": "@jupyter-widgets/base",
      "model_module_version": "1.1.0",
      "model_name": "LayoutModel",
      "state": {}
     },
     "d057358cb03f494fb6a7a6e6ac679041": {
      "model_module": "@jupyter-widgets/controls",
      "model_module_version": "1.4.0",
      "model_name": "DescriptionStyleModel",
      "state": {
       "description_width": ""
      }
     },
     "d09ec47a46124058b387d93c9ebeb510": {
      "model_module": "@jupyter-widgets/controls",
      "model_module_version": "1.4.0",
      "model_name": "IntSliderModel",
      "state": {
       "description": "n_sites",
       "layout": "IPY_MODEL_5ceb881a94354ee7882b1cb9c5a0711d",
       "max": 10,
       "min": 1,
       "style": "IPY_MODEL_2a5c7758288d421dabec5d37a32156b7",
       "value": 5
      }
     },
     "d2ddf0db970a4f13827d9cc41fc73352": {
      "model_module": "@jupyter-widgets/controls",
      "model_module_version": "1.4.0",
      "model_name": "TextModel",
      "state": {
       "description": "B",
       "layout": "IPY_MODEL_1027207e13fc427098d9793df2693316",
       "style": "IPY_MODEL_05302e2d695945c88c806b516c84cbf1",
       "value": "10010000000"
      }
     },
     "d5d0375f5d1b49ad995a91143ea519a1": {
      "model_module": "@jupyter-widgets/base",
      "model_module_version": "1.1.0",
      "model_name": "LayoutModel",
      "state": {}
     },
     "d76838712cb342df8e4e0727c38b92a8": {
      "model_module": "@jupyter-widgets/base",
      "model_module_version": "1.1.0",
      "model_name": "LayoutModel",
      "state": {}
     },
     "d859b9d60b8349d7be78aa9624d2b4e0": {
      "model_module": "@jupyter-widgets/controls",
      "model_module_version": "1.4.0",
      "model_name": "SliderStyleModel",
      "state": {
       "description_width": ""
      }
     },
     "d9b9ec771e9443ab89272cbec5e397f9": {
      "model_module": "@jupyter-widgets/base",
      "model_module_version": "1.1.0",
      "model_name": "LayoutModel",
      "state": {}
     },
     "da1e670b381241f08426831cda4cfa22": {
      "model_module": "@jupyter-widgets/output",
      "model_module_version": "1.0.0",
      "model_name": "OutputModel",
      "state": {
       "layout": "IPY_MODEL_36d71db2324140d5976c9ba1b2ce10a8",
       "outputs": [
        {
         "name": "stdout",
         "output_type": "stream",
         "text": "For computational constraints please keep length of vector \n              (total number of sites) less than or equal to 10.\n              For longer vectors please download the notebook and run locally\n              or contact martinlrennie@gmail.com.\n              \n"
        }
       ]
      }
     },
     "db545cb184a64684a10fa6bab715839f": {
      "model_module": "@jupyter-widgets/base",
      "model_module_version": "1.1.0",
      "model_name": "LayoutModel",
      "state": {}
     },
     "dc8ca7d7fd8d4731b170b6bd96b23229": {
      "model_module": "@jupyter-widgets/base",
      "model_module_version": "1.1.0",
      "model_name": "LayoutModel",
      "state": {}
     },
     "de1d37f4c4014e52a808410b0e3fbc11": {
      "model_module": "@jupyter-widgets/base",
      "model_module_version": "1.1.0",
      "model_name": "LayoutModel",
      "state": {}
     },
     "dff016ae3ed04141ae78f9c74f8ab4b8": {
      "model_module": "@jupyter-widgets/output",
      "model_module_version": "1.0.0",
      "model_name": "OutputModel",
      "state": {
       "layout": "IPY_MODEL_e586a90c266343348946e6183ba12ad2",
       "outputs": [
        {
         "name": "stdout",
         "output_type": "stream",
         "text": "States with 0 ligands bound:\n['00000'] \n\nStates with 1 ligands bound:\n['10000', '01000', '00100', '00010', '00001'] \n\nStates with 2 ligands bound:\n['11000', '10100', '10010', '10001', '01100', '01010', '01001', '00110', '00101', '00011'] \n\nStates with 3 ligands bound:\n['11100', '11010', '11001', '10110', '10101', '10011', '01110', '01101', '01011', '00111'] \n\nStates with 4 ligands bound:\n['11110', '11101', '11011', '10111', '01111'] \n\nStates with 5 ligands bound:\n['11111'] \n\n"
        }
       ]
      }
     },
     "e287c349b6524281a778b38ed9e16884": {
      "model_module": "@jupyter-widgets/controls",
      "model_module_version": "1.4.0",
      "model_name": "VBoxModel",
      "state": {
       "_dom_classes": [
        "widget-interact"
       ],
       "children": [
        "IPY_MODEL_e52c5fffa48a44a1a8f07cc50cf943d0",
        "IPY_MODEL_82948eefe6c4475181369541eaffb088"
       ],
       "layout": "IPY_MODEL_5949f2fd8659445188402bae581790de"
      }
     },
     "e2e75757774b4579aa167541dac2a398": {
      "model_module": "@jupyter-widgets/base",
      "model_module_version": "1.1.0",
      "model_name": "LayoutModel",
      "state": {}
     },
     "e52c5fffa48a44a1a8f07cc50cf943d0": {
      "model_module": "@jupyter-widgets/controls",
      "model_module_version": "1.4.0",
      "model_name": "TextModel",
      "state": {
       "description": "B",
       "layout": "IPY_MODEL_3665c03abef54858a2808fe1b2e5202d",
       "style": "IPY_MODEL_2047ab30d6d8428ebc72939f68782b71",
       "value": "00001"
      }
     },
     "e586a90c266343348946e6183ba12ad2": {
      "model_module": "@jupyter-widgets/base",
      "model_module_version": "1.1.0",
      "model_name": "LayoutModel",
      "state": {}
     },
     "e63de0523dd74754be8b679cd7c90e7e": {
      "model_module": "@jupyter-widgets/controls",
      "model_module_version": "1.4.0",
      "model_name": "IntSliderModel",
      "state": {
       "description": "n_sites",
       "layout": "IPY_MODEL_05dc0f5e94994b878d73810a92135f42",
       "max": 10,
       "min": 1,
       "style": "IPY_MODEL_d859b9d60b8349d7be78aa9624d2b4e0",
       "value": 10
      }
     },
     "e75e7249cf8545f685518f50ab104bab": {
      "model_module": "@jupyter-widgets/base",
      "model_module_version": "1.1.0",
      "model_name": "LayoutModel",
      "state": {}
     },
     "e8fbf4a1ede844d9b37aa58caec3fbbd": {
      "model_module": "@jupyter-widgets/controls",
      "model_module_version": "1.4.0",
      "model_name": "TextModel",
      "state": {
       "description": "B",
       "layout": "IPY_MODEL_4a79bce7da4c4afc9bfc3aaa0a509778",
       "style": "IPY_MODEL_21e4a459eeed40ba99e827618b299e8d",
       "value": "10010001011"
      }
     },
     "e96bd9b36e5447a0a214cfcdd08f47bc": {
      "model_module": "@jupyter-widgets/base",
      "model_module_version": "1.1.0",
      "model_name": "LayoutModel",
      "state": {}
     },
     "ea00608eff114532adb521867ca9eaee": {
      "model_module": "@jupyter-widgets/base",
      "model_module_version": "1.1.0",
      "model_name": "LayoutModel",
      "state": {}
     },
     "eaae7edc8da9482798bef810ef765c89": {
      "model_module": "@jupyter-widgets/output",
      "model_module_version": "1.0.0",
      "model_name": "OutputModel",
      "state": {
       "layout": "IPY_MODEL_66a10d01c2884fd2b8fe8dec0534318f"
      }
     },
     "ed4b892b7ca046b3b9f4d5861ee218b1": {
      "model_module": "@jupyter-widgets/output",
      "model_module_version": "1.0.0",
      "model_name": "OutputModel",
      "state": {
       "layout": "IPY_MODEL_4ad904517b674644a458b06ecfd00235",
       "outputs": [
        {
         "name": "stdout",
         "output_type": "stream",
         "text": "['000', '001', '010', '011', '100', '101', '110', '111']\n"
        }
       ]
      }
     },
     "f2d976059b23477b80eb7248a30f9ebb": {
      "model_module": "@jupyter-widgets/controls",
      "model_module_version": "1.4.0",
      "model_name": "SliderStyleModel",
      "state": {
       "description_width": ""
      }
     },
     "f489fe65b7d54d47a612a5cbf8e8e5b2": {
      "model_module": "@jupyter-widgets/base",
      "model_module_version": "1.1.0",
      "model_name": "LayoutModel",
      "state": {}
     },
     "f51bcb3180d645dcbcc0995bc2477fd3": {
      "model_module": "@jupyter-widgets/base",
      "model_module_version": "1.1.0",
      "model_name": "LayoutModel",
      "state": {}
     },
     "f546fc41db404b57ad0611d35d768179": {
      "model_module": "@jupyter-widgets/base",
      "model_module_version": "1.1.0",
      "model_name": "LayoutModel",
      "state": {}
     },
     "f54858da59164cf18d4246d51c3579e3": {
      "model_module": "@jupyter-widgets/base",
      "model_module_version": "1.1.0",
      "model_name": "LayoutModel",
      "state": {}
     },
     "f5d762d472934c3098d554e73f525f29": {
      "model_module": "@jupyter-widgets/controls",
      "model_module_version": "1.4.0",
      "model_name": "VBoxModel",
      "state": {
       "_dom_classes": [
        "widget-interact"
       ],
       "children": [
        "IPY_MODEL_3e3c4f7195c343e190ad6f1ccd6d937b",
        "IPY_MODEL_9f12b90475d64cc5aaee884854d627d4"
       ],
       "layout": "IPY_MODEL_07f3b713cc9f4a08a2e39d619b0caf0d"
      }
     },
     "f6951365856741d897022bcfbe32d345": {
      "model_module": "@jupyter-widgets/base",
      "model_module_version": "1.1.0",
      "model_name": "LayoutModel",
      "state": {}
     },
     "f79b97aca8844d6b90f45f3a0ac19ee9": {
      "model_module": "@jupyter-widgets/controls",
      "model_module_version": "1.4.0",
      "model_name": "DescriptionStyleModel",
      "state": {
       "description_width": ""
      }
     },
     "f92e463e4b494b389848042dbcac7539": {
      "model_module": "@jupyter-widgets/base",
      "model_module_version": "1.1.0",
      "model_name": "LayoutModel",
      "state": {}
     },
     "fc95e4406fee454099f83a38bc668ba6": {
      "model_module": "@jupyter-widgets/controls",
      "model_module_version": "1.4.0",
      "model_name": "VBoxModel",
      "state": {
       "_dom_classes": [
        "widget-interact"
       ],
       "children": [
        "IPY_MODEL_5328adb1dfd94692b360047886bcf360",
        "IPY_MODEL_25471cd0296142b79a5326a707b06855"
       ],
       "layout": "IPY_MODEL_6691dbcd0bf9455387c252a11f4be8ad"
      }
     }
    },
    "version_major": 2,
    "version_minor": 0
   }
  }
 },
 "nbformat": 4,
 "nbformat_minor": 2
}
