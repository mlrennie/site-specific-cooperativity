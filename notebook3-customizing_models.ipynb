{
 "cells": [
  {
   "cell_type": "markdown",
   "metadata": {},
   "source": [
    "# Site-Specific Ligand Binding\n",
    "\n",
    "In the previous two notebooks we introduced the binary vector notation and hierarchical parameterization.  In this notebook we incorporate these tools into the binding polynomial, a concise mathematical description of a binding model. The binding polynomial is essentially the summation of the concentration of each state, specified in terms of the concentration of the unliganded state (the reference state), the concentration of free ligand, and the thermodynamic parameters (equilibrium constants)."
   ]
  },
  {
   "cell_type": "markdown",
   "metadata": {},
   "source": [
    "# 3. The Binding Polynomial\n",
    "\n",
    "The concentration of a liganded state, represented by the binary vector $\\mathbf{B}$, is given by:\n",
    "\n",
    "$$\n",
    "[M_\\mathbf{B}] = [M_\\mathbf{0}]\\prod_{\n",
    "\\substack{\\mathbf{b} \\\\ \n",
    "\\forall B_j=0,b_j=0 \\\\\n",
    "\\forall B_j=1,b_j\\in\\{0,1\\}}}\n",
    "f(\\mathbf{b})\n",
    "$$\n",
    "\n",
    "$$ \n",
    "f(\\mathbf{b}) = \\begin{cases}\n",
    "1 & \\sum{b_j}=0 \\\\\n",
    "K_\\mathbf{b}[L_{i}] & \\sum{b_j}=1, b_i=1 \\\\\n",
    "\\alpha_\\mathbf{b} & \\sum{b_j}>1\n",
    "\\end{cases}\n",
    "$$\n",
    "\n",
    "where $[M_\\mathbf{0}]$ is the concentration of the unliganded state, $[L_i]$ is the concentration of free ligand for site $i$, and $K_\\mathbf{b}$ and $\\alpha_\\mathbf{b}$ are the equilibrium constants. Symmetry between the binding sites, e.g. for cyclic protein oligomers, can be readily incorporated using the binary notation, resulting in equivalenced states and a simplified model. \n",
    "\n",
    "We generate the bind polynomial based on the equations above, implemented in the python scripts associated with this package."
   ]
  },
  {
   "cell_type": "markdown",
   "metadata": {},
   "source": [
    "### This workbook demonstrates how to derive a highly customized model\n",
    "\n",
    "First we initialize the model by assigning the number of sites and import some functions that will be useful later. Note that once an assumption has been applied it cannot (easily) be reversed and it is best restart the notebook if you want to change the assumption.\n",
    "\n",
    "**Initialise each code block (`In [ ]:`) by clicking on the cell and pressing `SHIFT`+`ENTER`.**"
   ]
  },
  {
   "cell_type": "markdown",
   "metadata": {},
   "source": [
    "As a simple example let us first consider a cyclically symmetric heptamer (`n_sites=7`, `sym='cyclic`). Note that for dih we take the first."
   ]
  },
  {
   "cell_type": "code",
   "execution_count": 1,
   "metadata": {},
   "outputs": [],
   "source": [
    "from site_specific_model import SiteSpecificModel\n",
    "from sympy import expand,symbols, init_printing\n",
    "\n",
    "mymodel = SiteSpecificModel(n_sites=7,sym='cyclic')"
   ]
  },
  {
   "cell_type": "markdown",
   "metadata": {},
   "source": [
    "Let us assume that only nearest neighbors interact in a non-additive fashion."
   ]
  },
  {
   "cell_type": "code",
   "execution_count": 2,
   "metadata": {},
   "outputs": [
    {
     "data": {
      "text/plain": [
       "1 + 7*[L_{1}]*K_{1000000} + 14*[L_{1}]**2*K_{1000000}**2 + 7*[L_{1}]**3*K_{1000000}**3 + 7*\\alpha_{1100000}*[L_{1}]**2*K_{1000000}**2 + 21*\\alpha_{1100000}*[L_{1}]**3*K_{1000000}**3 + 7*\\alpha_{1100000}*[L_{1}]**4*K_{1000000}**4 + 7*\\alpha_{1100000}**2*[L_{1}]**3*K_{1000000}**3 + 21*\\alpha_{1100000}**2*[L_{1}]**4*K_{1000000}**4 + 7*\\alpha_{1100000}**3*[L_{1}]**4*K_{1000000}**4 + 14*\\alpha_{1100000}**3*[L_{1}]**5*K_{1000000}**5 + 7*\\alpha_{1100000}**4*[L_{1}]**5*K_{1000000}**5 + 7*\\alpha_{1100000}**5*[L_{1}]**6*K_{1000000}**6 + \\alpha_{1100000}**7*[L_{1}]**7*K_{1000000}**7"
      ]
     },
     "execution_count": 2,
     "metadata": {},
     "output_type": "execute_result"
    }
   ],
   "source": [
    "# apply simple nearest neighbor approximations\n",
    "mymodel.nearest_neighbors()\n",
    "# perform the computations to construct the binding polynomial\n",
    "mymodel.generate_bp()\n",
    "# print the binding polynomial\n",
    "mymodel.bp"
   ]
  },
  {
   "cell_type": "markdown",
   "metadata": {},
   "source": [
    "We can also print the binding polynomial a bit nicer."
   ]
  },
  {
   "cell_type": "code",
   "execution_count": 3,
   "metadata": {
    "scrolled": false
   },
   "outputs": [
    {
     "data": {
      "image/png": "[encoded data removed]",
      "text/latex": [
       "$\\displaystyle K_{1000000}^{7} [L_{1}]^{7} \\alpha_{1100000}^{7} + 7 K_{1000000}^{6} [L_{1}]^{6} \\alpha_{1100000}^{5} + 7 K_{1000000}^{5} [L_{1}]^{5} \\alpha_{1100000}^{4} + 14 K_{1000000}^{5} [L_{1}]^{5} \\alpha_{1100000}^{3} + 7 K_{1000000}^{4} [L_{1}]^{4} \\alpha_{1100000}^{3} + 21 K_{1000000}^{4} [L_{1}]^{4} \\alpha_{1100000}^{2} + 7 K_{1000000}^{4} [L_{1}]^{4} \\alpha_{1100000} + 7 K_{1000000}^{3} [L_{1}]^{3} \\alpha_{1100000}^{2} + 21 K_{1000000}^{3} [L_{1}]^{3} \\alpha_{1100000} + 7 K_{1000000}^{3} [L_{1}]^{3} + 7 K_{1000000}^{2} [L_{1}]^{2} \\alpha_{1100000} + 14 K_{1000000}^{2} [L_{1}]^{2} + 7 K_{1000000} [L_{1}] + 1$"
      ],
      "text/plain": [
       "           7        7                 7                6        6             \n",
       "K_{1000000} ⋅[L_{1}] ⋅\\alpha_{1100000}  + 7⋅K_{1000000} ⋅[L_{1}] ⋅\\alpha_{1100\n",
       "\n",
       "    5                5        5                 4                 5        5  \n",
       "000}  + 7⋅K_{1000000} ⋅[L_{1}] ⋅\\alpha_{1100000}  + 14⋅K_{1000000} ⋅[L_{1}] ⋅\\\n",
       "\n",
       "               3                4        4                 3                 4\n",
       "alpha_{1100000}  + 7⋅K_{1000000} ⋅[L_{1}] ⋅\\alpha_{1100000}  + 21⋅K_{1000000} \n",
       "\n",
       "        4                 2                4        4                         \n",
       "⋅[L_{1}] ⋅\\alpha_{1100000}  + 7⋅K_{1000000} ⋅[L_{1}] ⋅\\alpha_{1100000} + 7⋅K_{\n",
       "\n",
       "        3        3                 2                 3        3               \n",
       "1000000} ⋅[L_{1}] ⋅\\alpha_{1100000}  + 21⋅K_{1000000} ⋅[L_{1}] ⋅\\alpha_{110000\n",
       "\n",
       "                  3        3                2        2                        \n",
       "0} + 7⋅K_{1000000} ⋅[L_{1}]  + 7⋅K_{1000000} ⋅[L_{1}] ⋅\\alpha_{1100000} + 14⋅K\n",
       "\n",
       "          2        2                            \n",
       "_{1000000} ⋅[L_{1}]  + 7⋅K_{1000000}⋅[L_{1}] + 1"
      ]
     },
     "metadata": {},
     "output_type": "display_data"
    }
   ],
   "source": [
    "init_printing()\n",
    "\n",
    "display(expand(mymodel.bp))"
   ]
  },
  {
   "cell_type": "markdown",
   "metadata": {},
   "source": [
    "### Another example\n",
    "\n",
    "Let us consider a more complex example. Here we specify 5 ligands (`n_sites=5`), with no symmetry between the sites (`sym='none'`). "
   ]
  },
  {
   "cell_type": "code",
   "execution_count": 4,
   "metadata": {},
   "outputs": [],
   "source": [
    "mymodel = SiteSpecificModel(n_sites=5,homotropic=False,sym='none')"
   ]
  },
  {
   "cell_type": "markdown",
   "metadata": {},
   "source": [
    "Even though we did not assume the sites bind the same ligand (`homotropic=False`), we can customise the model such a some sites bind the same ligand. We do this by populating the `L` list variable of the model with sympy symbols representing the free concentration of the different ligands.\n",
    "\n",
    "In the example below Site 1 binds one ligand and Sites 2-5 bind a different ligand."
   ]
  },
  {
   "cell_type": "code",
   "execution_count": 5,
   "metadata": {},
   "outputs": [],
   "source": [
    "L1,L2 = symbols('[L_{1}] [L_{2}]')\n",
    "mymodel.L = [L1,L2,L2,L2,L2]"
   ]
  },
  {
   "cell_type": "markdown",
   "metadata": {},
   "source": [
    "Let us further assume that the Sites 2-5 are equivalent (for example they may be identical domains). Note that we are not assuming the interactions between them are identical.\n",
    "\n",
    "To do this we use the `set_equivalent_affinities` function of the model and provide it with a list of the sites to be assigned as equivalent."
   ]
  },
  {
   "cell_type": "code",
   "execution_count": 6,
   "metadata": {},
   "outputs": [],
   "source": [
    "mymodel.set_equivalent_affinities([2,3,4,5])"
   ]
  },
  {
   "cell_type": "markdown",
   "metadata": {},
   "source": [
    "Now let us make some assumptions about the interactions between the sites. We can make the interactions between some sites negligible using the `set_independent` function of the model or make the interactions extremely unfavorable by using the `set_block` function.\n",
    "\n",
    "In the example below we assume all of the interactions between 3 or more sites are negligible and only single ligand 2 can bind at one time by setting the interactions between the sites binding ligand 2 as extremely unfavorable. The latter may occur if ligand 2 is very large."
   ]
  },
  {
   "cell_type": "code",
   "execution_count": 7,
   "metadata": {},
   "outputs": [],
   "source": [
    "for s in mymodel.states:\n",
    "    # if a state contains 3 or more sites occupied, set the relevant interaction constant to 1\n",
    "    if(s.count('1')>=3):\n",
    "        mymodel.set_independent(s)\n",
    "# set the interaction constant between these pairs of sites to 0\n",
    "mymodel.set_block(['01100','00110','00011'])"
   ]
  },
  {
   "cell_type": "markdown",
   "metadata": {},
   "source": [
    "Finally, we assume that Site 1 interacts in the same way with Sites 2-5. We introduce this approximation by modifying the `params` dictionary variable of the model. Note that we have used the same interactions as above."
   ]
  },
  {
   "cell_type": "code",
   "execution_count": 8,
   "metadata": {},
   "outputs": [],
   "source": [
    "# define the states to be made equivalent\n",
    "equiv_interactions = ['11000','10100','10010','10001']\n",
    "\n",
    "for s in mymodel.params:\n",
    "    if(s in equiv_interactions[1:]):\n",
    "        mymodel.params[s] = mymodel.params[equiv_interactions[0]]"
   ]
  },
  {
   "cell_type": "markdown",
   "metadata": {},
   "source": [
    "Now that we have made our approximations, we are ready to make the binding polynomial that summarizes our model. Note for models with >7 sites, applying simplifications before generating the binding polynomial speeds up its generation considerably. "
   ]
  },
  {
   "cell_type": "code",
   "execution_count": 9,
   "metadata": {
    "scrolled": true
   },
   "outputs": [
    {
     "data": {
      "image/png": "[encoded data removed]",
      "text/latex": [
       "$\\displaystyle K_{01000}^{2} K_{10000} [L_{1}] [L_{2}]^{2} \\alpha_{00101} \\alpha_{11000}^{2} + K_{01000}^{2} K_{10000} [L_{1}] [L_{2}]^{2} \\alpha_{01001} \\alpha_{11000}^{2} + K_{01000}^{2} K_{10000} [L_{1}] [L_{2}]^{2} \\alpha_{01010} \\alpha_{11000}^{2} + K_{01000}^{2} [L_{2}]^{2} \\alpha_{00101} + K_{01000}^{2} [L_{2}]^{2} \\alpha_{01001} + K_{01000}^{2} [L_{2}]^{2} \\alpha_{01010} + 4 K_{01000} K_{10000} [L_{1}] [L_{2}] \\alpha_{11000} + 4 K_{01000} [L_{2}] + K_{10000} [L_{1}] + 1$"
      ],
      "text/plain": [
       "         2                          2                              2          \n",
       "K_{01000} ⋅K_{10000}⋅[L_{1}]⋅[L_{2}] ⋅\\alpha_{00101}⋅\\alpha_{11000}  + K_{0100\n",
       "\n",
       "  2                          2                              2            2    \n",
       "0} ⋅K_{10000}⋅[L_{1}]⋅[L_{2}] ⋅\\alpha_{01001}⋅\\alpha_{11000}  + K_{01000} ⋅K_{\n",
       "\n",
       "                      2                              2            2        2  \n",
       "10000}⋅[L_{1}]⋅[L_{2}] ⋅\\alpha_{01010}⋅\\alpha_{11000}  + K_{01000} ⋅[L_{2}] ⋅\\\n",
       "\n",
       "                         2        2                           2        2      \n",
       "alpha_{00101} + K_{01000} ⋅[L_{2}] ⋅\\alpha_{01001} + K_{01000} ⋅[L_{2}] ⋅\\alph\n",
       "\n",
       "                                                                              \n",
       "a_{01010} + 4⋅K_{01000}⋅K_{10000}⋅[L_{1}]⋅[L_{2}]⋅\\alpha_{11000} + 4⋅K_{01000}\n",
       "\n",
       "                                \n",
       "⋅[L_{2}] + K_{10000}⋅[L_{1}] + 1"
      ]
     },
     "metadata": {},
     "output_type": "display_data"
    }
   ],
   "source": [
    "# perform the computations to construct the binding polynomial\n",
    "mymodel.generate_bp()\n",
    "\n",
    "# print the binding polynomial in a nice format\n",
    "display(expand(mymodel.bp))"
   ]
  },
  {
   "cell_type": "markdown",
   "metadata": {},
   "source": [
    "As a last step let us list all the fittable parameters in our model."
   ]
  },
  {
   "cell_type": "code",
   "execution_count": 10,
   "metadata": {
    "scrolled": true
   },
   "outputs": [
    {
     "data": {
      "image/png": "[encoded data removed]",
      "text/latex": [
       "$\\displaystyle K_{01000}$"
      ],
      "text/plain": [
       "K_{01000}"
      ]
     },
     "metadata": {},
     "output_type": "display_data"
    },
    {
     "data": {
      "image/png": "[encoded data removed]",
      "text/latex": [
       "$\\displaystyle \\alpha_{00101}$"
      ],
      "text/plain": [
       "\\alpha_{00101}"
      ]
     },
     "metadata": {},
     "output_type": "display_data"
    },
    {
     "data": {
      "image/png": "[encoded data removed]",
      "text/latex": [
       "$\\displaystyle \\alpha_{01001}$"
      ],
      "text/plain": [
       "\\alpha_{01001}"
      ]
     },
     "metadata": {},
     "output_type": "display_data"
    },
    {
     "data": {
      "image/png": "[encoded data removed]",
      "text/latex": [
       "$\\displaystyle \\alpha_{01010}$"
      ],
      "text/plain": [
       "\\alpha_{01010}"
      ]
     },
     "metadata": {},
     "output_type": "display_data"
    },
    {
     "data": {
      "image/png": "[encoded data removed]",
      "text/latex": [
       "$\\displaystyle K_{10000}$"
      ],
      "text/plain": [
       "K_{10000}"
      ]
     },
     "metadata": {},
     "output_type": "display_data"
    },
    {
     "data": {
      "image/png": "[encoded data removed]",
      "text/latex": [
       "$\\displaystyle \\alpha_{11000}$"
      ],
      "text/plain": [
       "\\alpha_{11000}"
      ]
     },
     "metadata": {},
     "output_type": "display_data"
    }
   ],
   "source": [
    "mymodel.make_params_list()\n",
    "\n",
    "# print each parameter in a nice format\n",
    "for param in mymodel.params_list:\n",
    "    display(expand(param))"
   ]
  },
  {
   "cell_type": "markdown",
   "metadata": {},
   "source": [
    "We have dropped from the 31 ($=2^5-1$) parameters of the general 5-site model, to only 6 free parameters."
   ]
  },
  {
   "cell_type": "markdown",
   "metadata": {},
   "source": [
    "### Final example\n",
    "\n",
    "In the last example, we consider a dihedral dodecamer (`n_sites=12`). Here the C2 symmetry axis is represented by grouping the first 6 binary strings and the last 6 binary strings such that e.g. `100000 = 0001000`)."
   ]
  },
  {
   "cell_type": "code",
   "execution_count": 11,
   "metadata": {},
   "outputs": [],
   "source": [
    "mymodel = SiteSpecificModel(n_sites=12,sym='dihedral')"
   ]
  },
  {
   "cell_type": "markdown",
   "metadata": {},
   "source": [
    "Now we simplify this model by using a nearest neighbor approximation in which adjacent subunits along the C6 symmetry axis can interact and one set of subunits along the C2 symmetry axis can interact."
   ]
  },
  {
   "cell_type": "code",
   "execution_count": 12,
   "metadata": {},
   "outputs": [],
   "source": [
    "for s in mymodel.states:\n",
    "    # if a state contains 3 or more sites occupied, set the relevant interaction constant to 1\n",
    "    if(s.count('1')>=3):\n",
    "        mymodel.set_independent(s)\n",
    "    elif(s.count('1')==2):\n",
    "        if(s=='110000000000' or s=='100000100000'):\n",
    "            pass\n",
    "        else:\n",
    "            mymodel.set_independent(s)"
   ]
  },
  {
   "cell_type": "markdown",
   "metadata": {},
   "source": [
    "The binding polynomial \"reduces\" to:"
   ]
  },
  {
   "cell_type": "code",
   "execution_count": 13,
   "metadata": {
    "scrolled": true
   },
   "outputs": [
    {
     "data": {
      "image/png": "[encoded data removed]",
      "text/latex": [
       "$\\displaystyle K_{100000000000}^{12} [L]^{12} \\alpha_{100000100000}^{6} \\alpha_{110000000000}^{12} + 12 K_{100000000000}^{11} [L]^{11} \\alpha_{100000100000}^{5} \\alpha_{110000000000}^{10} + 6 K_{100000000000}^{10} [L]^{10} \\alpha_{100000100000}^{5} \\alpha_{110000000000}^{8} + 12 K_{100000000000}^{10} [L]^{10} \\alpha_{100000100000}^{4} \\alpha_{110000000000}^{9} + 48 K_{100000000000}^{10} [L]^{10} \\alpha_{100000100000}^{4} \\alpha_{110000000000}^{8} + 24 K_{100000000000}^{9} [L]^{9} \\alpha_{100000100000}^{4} \\alpha_{110000000000}^{7} + 36 K_{100000000000}^{9} [L]^{9} \\alpha_{100000100000}^{4} \\alpha_{110000000000}^{6} + 12 K_{100000000000}^{9} [L]^{9} \\alpha_{100000100000}^{3} \\alpha_{110000000000}^{8} + 72 K_{100000000000}^{9} [L]^{9} \\alpha_{100000100000}^{3} \\alpha_{110000000000}^{7} + 76 K_{100000000000}^{9} [L]^{9} \\alpha_{100000100000}^{3} \\alpha_{110000000000}^{6} + 6 K_{100000000000}^{8} [L]^{8} \\alpha_{100000100000}^{4} \\alpha_{110000000000}^{6} + 9 K_{100000000000}^{8} [L]^{8} \\alpha_{100000100000}^{4} \\alpha_{110000000000}^{4} + 48 K_{100000000000}^{8} [L]^{8} \\alpha_{100000100000}^{3} \\alpha_{110000000000}^{6} + 144 K_{100000000000}^{8} [L]^{8} \\alpha_{100000100000}^{3} \\alpha_{110000000000}^{5} + 48 K_{100000000000}^{8} [L]^{8} \\alpha_{100000100000}^{3} \\alpha_{110000000000}^{4} + 12 K_{100000000000}^{8} [L]^{8} \\alpha_{100000100000}^{2} \\alpha_{110000000000}^{7} + 72 K_{100000000000}^{8} [L]^{8} \\alpha_{100000100000}^{2} \\alpha_{110000000000}^{6} + 108 K_{100000000000}^{8} [L]^{8} \\alpha_{100000100000}^{2} \\alpha_{110000000000}^{5} + 48 K_{100000000000}^{8} [L]^{8} \\alpha_{100000100000}^{2} \\alpha_{110000000000}^{4} + 24 K_{100000000000}^{7} [L]^{7} \\alpha_{100000100000}^{3} \\alpha_{110000000000}^{5} + 36 K_{100000000000}^{7} [L]^{7} \\alpha_{100000100000}^{3} \\alpha_{110000000000}^{4} + 48 K_{100000000000}^{7} [L]^{7} \\alpha_{100000100000}^{3} \\alpha_{110000000000}^{3} + 12 K_{100000000000}^{7} [L]^{7} \\alpha_{100000100000}^{3} \\alpha_{110000000000}^{2} + 72 K_{100000000000}^{7} [L]^{7} \\alpha_{100000100000}^{2} \\alpha_{110000000000}^{5} + 252 K_{100000000000}^{7} [L]^{7} \\alpha_{100000100000}^{2} \\alpha_{110000000000}^{4} + 144 K_{100000000000}^{7} [L]^{7} \\alpha_{100000100000}^{2} \\alpha_{110000000000}^{3} + 12 K_{100000000000}^{7} [L]^{7} \\alpha_{100000100000}^{2} \\alpha_{110000000000}^{2} + 12 K_{100000000000}^{7} [L]^{7} \\alpha_{100000100000} \\alpha_{110000000000}^{6} + 48 K_{100000000000}^{7} [L]^{7} \\alpha_{100000100000} \\alpha_{110000000000}^{5} + 72 K_{100000000000}^{7} [L]^{7} \\alpha_{100000100000} \\alpha_{110000000000}^{4} + 48 K_{100000000000}^{7} [L]^{7} \\alpha_{100000100000} \\alpha_{110000000000}^{3} + 12 K_{100000000000}^{7} [L]^{7} \\alpha_{100000100000} \\alpha_{110000000000}^{2} + 6 K_{100000000000}^{6} [L]^{6} \\alpha_{100000100000}^{3} \\alpha_{110000000000}^{4} + 12 K_{100000000000}^{6} [L]^{6} \\alpha_{100000100000}^{3} \\alpha_{110000000000}^{2} + 2 K_{100000000000}^{6} [L]^{6} \\alpha_{100000100000}^{3} + 48 K_{100000000000}^{6} [L]^{6} \\alpha_{100000100000}^{2} \\alpha_{110000000000}^{4} + 144 K_{100000000000}^{6} [L]^{6} \\alpha_{100000100000}^{2} \\alpha_{110000000000}^{3} + 144 K_{100000000000}^{6} [L]^{6} \\alpha_{100000100000}^{2} \\alpha_{110000000000}^{2} + 24 K_{100000000000}^{6} [L]^{6} \\alpha_{100000100000}^{2} \\alpha_{110000000000} + 96 K_{100000000000}^{6} [L]^{6} \\alpha_{100000100000} \\alpha_{110000000000}^{4} + 216 K_{100000000000}^{6} [L]^{6} \\alpha_{100000100000} \\alpha_{110000000000}^{3} + 144 K_{100000000000}^{6} [L]^{6} \\alpha_{100000100000} \\alpha_{110000000000}^{2} + 24 K_{100000000000}^{6} [L]^{6} \\alpha_{100000100000} \\alpha_{110000000000} + 2 K_{100000000000}^{6} [L]^{6} \\alpha_{110000000000}^{6} + 30 K_{100000000000}^{6} [L]^{6} \\alpha_{110000000000}^{4} + 30 K_{100000000000}^{6} [L]^{6} \\alpha_{110000000000}^{2} + 2 K_{100000000000}^{6} [L]^{6} + 24 K_{100000000000}^{5} [L]^{5} \\alpha_{100000100000}^{2} \\alpha_{110000000000}^{3} + 36 K_{100000000000}^{5} [L]^{5} \\alpha_{100000100000}^{2} \\alpha_{110000000000}^{2} + 48 K_{100000000000}^{5} [L]^{5} \\alpha_{100000100000}^{2} \\alpha_{110000000000} + 12 K_{100000000000}^{5} [L]^{5} \\alpha_{100000100000}^{2} + 72 K_{100000000000}^{5} [L]^{5} \\alpha_{100000100000} \\alpha_{110000000000}^{3} + 252 K_{100000000000}^{5} [L]^{5} \\alpha_{100000100000} \\alpha_{110000000000}^{2} + 144 K_{100000000000}^{5} [L]^{5} \\alpha_{100000100000} \\alpha_{110000000000} + 12 K_{100000000000}^{5} [L]^{5} \\alpha_{100000100000} + 12 K_{100000000000}^{5} [L]^{5} \\alpha_{110000000000}^{4} + 48 K_{100000000000}^{5} [L]^{5} \\alpha_{110000000000}^{3} + 72 K_{100000000000}^{5} [L]^{5} \\alpha_{110000000000}^{2} + 48 K_{100000000000}^{5} [L]^{5} \\alpha_{110000000000} + 12 K_{100000000000}^{5} [L]^{5} + 6 K_{100000000000}^{4} [L]^{4} \\alpha_{100000100000}^{2} \\alpha_{110000000000}^{2} + 9 K_{100000000000}^{4} [L]^{4} \\alpha_{100000100000}^{2} + 48 K_{100000000000}^{4} [L]^{4} \\alpha_{100000100000} \\alpha_{110000000000}^{2} + 144 K_{100000000000}^{4} [L]^{4} \\alpha_{100000100000} \\alpha_{110000000000} + 48 K_{100000000000}^{4} [L]^{4} \\alpha_{100000100000} + 12 K_{100000000000}^{4} [L]^{4} \\alpha_{110000000000}^{3} + 72 K_{100000000000}^{4} [L]^{4} \\alpha_{110000000000}^{2} + 108 K_{100000000000}^{4} [L]^{4} \\alpha_{110000000000} + 48 K_{100000000000}^{4} [L]^{4} + 24 K_{100000000000}^{3} [L]^{3} \\alpha_{100000100000} \\alpha_{110000000000} + 36 K_{100000000000}^{3} [L]^{3} \\alpha_{100000100000} + 12 K_{100000000000}^{3} [L]^{3} \\alpha_{110000000000}^{2} + 72 K_{100000000000}^{3} [L]^{3} \\alpha_{110000000000} + 76 K_{100000000000}^{3} [L]^{3} + 6 K_{100000000000}^{2} [L]^{2} \\alpha_{100000100000} + 12 K_{100000000000}^{2} [L]^{2} \\alpha_{110000000000} + 48 K_{100000000000}^{2} [L]^{2} + 12 K_{100000000000} [L] + 1$"
      ],
      "text/plain": [
       "                12    12                      6                      12       \n",
       "K_{100000000000}  ⋅[L]  ⋅\\alpha_{100000100000} ⋅\\alpha_{110000000000}   + 12⋅K\n",
       "\n",
       "               11    11                      5                      10        \n",
       "_{100000000000}  ⋅[L]  ⋅\\alpha_{100000100000} ⋅\\alpha_{110000000000}   + 6⋅K_{\n",
       "\n",
       "             10    10                      5                      8           \n",
       "100000000000}  ⋅[L]  ⋅\\alpha_{100000100000} ⋅\\alpha_{110000000000}  + 12⋅K_{10\n",
       "\n",
       "           10    10                      4                      9             \n",
       "0000000000}  ⋅[L]  ⋅\\alpha_{100000100000} ⋅\\alpha_{110000000000}  + 48⋅K_{1000\n",
       "\n",
       "         10    10                      4                      8               \n",
       "00000000}  ⋅[L]  ⋅\\alpha_{100000100000} ⋅\\alpha_{110000000000}  + 24⋅K_{100000\n",
       "\n",
       "       9    9                      4                      7                   \n",
       "000000} ⋅[L] ⋅\\alpha_{100000100000} ⋅\\alpha_{110000000000}  + 36⋅K_{1000000000\n",
       "\n",
       "   9    9                      4                      6                      9\n",
       "00} ⋅[L] ⋅\\alpha_{100000100000} ⋅\\alpha_{110000000000}  + 12⋅K_{100000000000} \n",
       "\n",
       "    9                      3                      8                      9    \n",
       "⋅[L] ⋅\\alpha_{100000100000} ⋅\\alpha_{110000000000}  + 72⋅K_{100000000000} ⋅[L]\n",
       "\n",
       "9                      3                      7                      9    9   \n",
       " ⋅\\alpha_{100000100000} ⋅\\alpha_{110000000000}  + 76⋅K_{100000000000} ⋅[L] ⋅\\a\n",
       "\n",
       "                   3                      6                     8    8        \n",
       "lpha_{100000100000} ⋅\\alpha_{110000000000}  + 6⋅K_{100000000000} ⋅[L] ⋅\\alpha_\n",
       "\n",
       "              4                      6                     8    8             \n",
       "{100000100000} ⋅\\alpha_{110000000000}  + 9⋅K_{100000000000} ⋅[L] ⋅\\alpha_{1000\n",
       "\n",
       "         4                      4                      8    8                 \n",
       "00100000} ⋅\\alpha_{110000000000}  + 48⋅K_{100000000000} ⋅[L] ⋅\\alpha_{10000010\n",
       "\n",
       "     3                      6                       8    8                    \n",
       "0000} ⋅\\alpha_{110000000000}  + 144⋅K_{100000000000} ⋅[L] ⋅\\alpha_{10000010000\n",
       "\n",
       "  3                      5                      8    8                      3 \n",
       "0} ⋅\\alpha_{110000000000}  + 48⋅K_{100000000000} ⋅[L] ⋅\\alpha_{100000100000} ⋅\n",
       "\n",
       "                     4                      8    8                      2     \n",
       "\\alpha_{110000000000}  + 12⋅K_{100000000000} ⋅[L] ⋅\\alpha_{100000100000} ⋅\\alp\n",
       "\n",
       "                 7                      8    8                      2         \n",
       "ha_{110000000000}  + 72⋅K_{100000000000} ⋅[L] ⋅\\alpha_{100000100000} ⋅\\alpha_{\n",
       "\n",
       "             6                       8    8                      2            \n",
       "110000000000}  + 108⋅K_{100000000000} ⋅[L] ⋅\\alpha_{100000100000} ⋅\\alpha_{110\n",
       "\n",
       "          5                      8    8                      2                \n",
       "000000000}  + 48⋅K_{100000000000} ⋅[L] ⋅\\alpha_{100000100000} ⋅\\alpha_{1100000\n",
       "\n",
       "      4                      7    7                      3                    \n",
       "00000}  + 24⋅K_{100000000000} ⋅[L] ⋅\\alpha_{100000100000} ⋅\\alpha_{11000000000\n",
       "\n",
       "  5                      7    7                      3                      4 \n",
       "0}  + 36⋅K_{100000000000} ⋅[L] ⋅\\alpha_{100000100000} ⋅\\alpha_{110000000000}  \n",
       "\n",
       "                     7    7                      3                      3     \n",
       "+ 48⋅K_{100000000000} ⋅[L] ⋅\\alpha_{100000100000} ⋅\\alpha_{110000000000}  + 12\n",
       "\n",
       "                 7    7                      3                      2         \n",
       "⋅K_{100000000000} ⋅[L] ⋅\\alpha_{100000100000} ⋅\\alpha_{110000000000}  + 72⋅K_{\n",
       "\n",
       "             7    7                      2                      5             \n",
       "100000000000} ⋅[L] ⋅\\alpha_{100000100000} ⋅\\alpha_{110000000000}  + 252⋅K_{100\n",
       "\n",
       "          7    7                      2                      4                \n",
       "000000000} ⋅[L] ⋅\\alpha_{100000100000} ⋅\\alpha_{110000000000}  + 144⋅K_{100000\n",
       "\n",
       "       7    7                      2                      3                   \n",
       "000000} ⋅[L] ⋅\\alpha_{100000100000} ⋅\\alpha_{110000000000}  + 12⋅K_{1000000000\n",
       "\n",
       "   7    7                      2                      2                      7\n",
       "00} ⋅[L] ⋅\\alpha_{100000100000} ⋅\\alpha_{110000000000}  + 12⋅K_{100000000000} \n",
       "\n",
       "    7                                            6                      7    7\n",
       "⋅[L] ⋅\\alpha_{100000100000}⋅\\alpha_{110000000000}  + 48⋅K_{100000000000} ⋅[L] \n",
       "\n",
       "                                            5                      7    7     \n",
       "⋅\\alpha_{100000100000}⋅\\alpha_{110000000000}  + 72⋅K_{100000000000} ⋅[L] ⋅\\alp\n",
       "\n",
       "                                       4                      7    7          \n",
       "ha_{100000100000}⋅\\alpha_{110000000000}  + 48⋅K_{100000000000} ⋅[L] ⋅\\alpha_{1\n",
       "\n",
       "                                  3                      7    7               \n",
       "00000100000}⋅\\alpha_{110000000000}  + 12⋅K_{100000000000} ⋅[L] ⋅\\alpha_{100000\n",
       "\n",
       "                             2                     6    6                     \n",
       "100000}⋅\\alpha_{110000000000}  + 6⋅K_{100000000000} ⋅[L] ⋅\\alpha_{100000100000\n",
       "\n",
       " 3                      4                      6    6                      3  \n",
       "} ⋅\\alpha_{110000000000}  + 12⋅K_{100000000000} ⋅[L] ⋅\\alpha_{100000100000} ⋅\\\n",
       "\n",
       "                    2                     6    6                      3       \n",
       "alpha_{110000000000}  + 2⋅K_{100000000000} ⋅[L] ⋅\\alpha_{100000100000}  + 48⋅K\n",
       "\n",
       "               6    6                      2                      4           \n",
       "_{100000000000} ⋅[L] ⋅\\alpha_{100000100000} ⋅\\alpha_{110000000000}  + 144⋅K_{1\n",
       "\n",
       "            6    6                      2                      3              \n",
       "00000000000} ⋅[L] ⋅\\alpha_{100000100000} ⋅\\alpha_{110000000000}  + 144⋅K_{1000\n",
       "\n",
       "         6    6                      2                      2                 \n",
       "00000000} ⋅[L] ⋅\\alpha_{100000100000} ⋅\\alpha_{110000000000}  + 24⋅K_{10000000\n",
       "\n",
       "     6    6                      2                                            \n",
       "0000} ⋅[L] ⋅\\alpha_{100000100000} ⋅\\alpha_{110000000000} + 96⋅K_{100000000000}\n",
       "\n",
       "6    6                                            4                       6   \n",
       " ⋅[L] ⋅\\alpha_{100000100000}⋅\\alpha_{110000000000}  + 216⋅K_{100000000000} ⋅[L\n",
       "\n",
       " 6                                            3                       6    6  \n",
       "] ⋅\\alpha_{100000100000}⋅\\alpha_{110000000000}  + 144⋅K_{100000000000} ⋅[L] ⋅\\\n",
       "\n",
       "                                          2                      6    6       \n",
       "alpha_{100000100000}⋅\\alpha_{110000000000}  + 24⋅K_{100000000000} ⋅[L] ⋅\\alpha\n",
       "\n",
       "                                                          6    6              \n",
       "_{100000100000}⋅\\alpha_{110000000000} + 2⋅K_{100000000000} ⋅[L] ⋅\\alpha_{11000\n",
       "\n",
       "        6                      6    6                      4                  \n",
       "0000000}  + 30⋅K_{100000000000} ⋅[L] ⋅\\alpha_{110000000000}  + 30⋅K_{100000000\n",
       "\n",
       "    6    6                      2                     6    6                  \n",
       "000} ⋅[L] ⋅\\alpha_{110000000000}  + 2⋅K_{100000000000} ⋅[L]  + 24⋅K_{100000000\n",
       "\n",
       "    5    5                      2                      3                      \n",
       "000} ⋅[L] ⋅\\alpha_{100000100000} ⋅\\alpha_{110000000000}  + 36⋅K_{100000000000}\n",
       "\n",
       "5    5                      2                      2                      5   \n",
       " ⋅[L] ⋅\\alpha_{100000100000} ⋅\\alpha_{110000000000}  + 48⋅K_{100000000000} ⋅[L\n",
       "\n",
       " 5                      2                                            5    5   \n",
       "] ⋅\\alpha_{100000100000} ⋅\\alpha_{110000000000} + 12⋅K_{100000000000} ⋅[L] ⋅\\a\n",
       "\n",
       "                   2                      5    5                              \n",
       "lpha_{100000100000}  + 72⋅K_{100000000000} ⋅[L] ⋅\\alpha_{100000100000}⋅\\alpha_\n",
       "\n",
       "              3                       5    5                                  \n",
       "{110000000000}  + 252⋅K_{100000000000} ⋅[L] ⋅\\alpha_{100000100000}⋅\\alpha_{110\n",
       "\n",
       "          2                       5    5                                      \n",
       "000000000}  + 144⋅K_{100000000000} ⋅[L] ⋅\\alpha_{100000100000}⋅\\alpha_{1100000\n",
       "\n",
       "                            5    5                                            \n",
       "00000} + 12⋅K_{100000000000} ⋅[L] ⋅\\alpha_{100000100000} + 12⋅K_{100000000000}\n",
       "\n",
       "5    5                      4                      5    5                     \n",
       " ⋅[L] ⋅\\alpha_{110000000000}  + 48⋅K_{100000000000} ⋅[L] ⋅\\alpha_{110000000000\n",
       "\n",
       " 3                      5    5                      2                      5  \n",
       "}  + 72⋅K_{100000000000} ⋅[L] ⋅\\alpha_{110000000000}  + 48⋅K_{100000000000} ⋅[\n",
       "\n",
       "  5                                            5    5                     4   \n",
       "L] ⋅\\alpha_{110000000000} + 12⋅K_{100000000000} ⋅[L]  + 6⋅K_{100000000000} ⋅[L\n",
       "\n",
       " 4                      2                      2                     4    4   \n",
       "] ⋅\\alpha_{100000100000} ⋅\\alpha_{110000000000}  + 9⋅K_{100000000000} ⋅[L] ⋅\\a\n",
       "\n",
       "                   2                      4    4                              \n",
       "lpha_{100000100000}  + 48⋅K_{100000000000} ⋅[L] ⋅\\alpha_{100000100000}⋅\\alpha_\n",
       "\n",
       "              2                       4    4                                  \n",
       "{110000000000}  + 144⋅K_{100000000000} ⋅[L] ⋅\\alpha_{100000100000}⋅\\alpha_{110\n",
       "\n",
       "                                4    4                                        \n",
       "000000000} + 48⋅K_{100000000000} ⋅[L] ⋅\\alpha_{100000100000} + 12⋅K_{100000000\n",
       "\n",
       "    4    4                      3                      4    4                 \n",
       "000} ⋅[L] ⋅\\alpha_{110000000000}  + 72⋅K_{100000000000} ⋅[L] ⋅\\alpha_{11000000\n",
       "\n",
       "     2                       4    4                                           \n",
       "0000}  + 108⋅K_{100000000000} ⋅[L] ⋅\\alpha_{110000000000} + 48⋅K_{100000000000\n",
       "\n",
       " 4    4                      3    3                                           \n",
       "} ⋅[L]  + 24⋅K_{100000000000} ⋅[L] ⋅\\alpha_{100000100000}⋅\\alpha_{110000000000\n",
       "\n",
       "                       3    3                                            3    \n",
       "} + 36⋅K_{100000000000} ⋅[L] ⋅\\alpha_{100000100000} + 12⋅K_{100000000000} ⋅[L]\n",
       "\n",
       "3                      2                      3    3                          \n",
       " ⋅\\alpha_{110000000000}  + 72⋅K_{100000000000} ⋅[L] ⋅\\alpha_{110000000000} + 7\n",
       "\n",
       "                  3    3                     2    2                           \n",
       "6⋅K_{100000000000} ⋅[L]  + 6⋅K_{100000000000} ⋅[L] ⋅\\alpha_{100000100000} + 12\n",
       "\n",
       "                 2    2                                            2    2     \n",
       "⋅K_{100000000000} ⋅[L] ⋅\\alpha_{110000000000} + 48⋅K_{100000000000} ⋅[L]  + 12\n",
       "\n",
       "                         \n",
       "⋅K_{100000000000}⋅[L] + 1"
      ]
     },
     "metadata": {},
     "output_type": "display_data"
    }
   ],
   "source": [
    "# perform the computations to construct the binding polynomial\n",
    "mymodel.generate_bp()\n",
    "\n",
    "# print the binding polynomial in a nice format\n",
    "display(expand(mymodel.bp))"
   ]
  },
  {
   "cell_type": "markdown",
   "metadata": {},
   "source": [
    "Which seems complex but only has 3 model parameters, a massive reduction from the 143 parameters of the 12-site general model."
   ]
  },
  {
   "cell_type": "code",
   "execution_count": null,
   "metadata": {},
   "outputs": [],
   "source": []
  }
 ],
 "metadata": {
  "kernelspec": {
   "display_name": "Python 3",
   "language": "python",
   "name": "python3"
  },
  "language_info": {
   "codemirror_mode": {
    "name": "ipython",
    "version": 3
   },
   "file_extension": ".py",
   "mimetype": "text/x-python",
   "name": "python",
   "nbconvert_exporter": "python",
   "pygments_lexer": "ipython3",
   "version": "3.8.5"
  }
 },
 "nbformat": 4,
 "nbformat_minor": 2
}
