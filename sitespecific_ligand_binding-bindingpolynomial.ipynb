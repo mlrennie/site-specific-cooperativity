{
 "cells": [
  {
   "cell_type": "markdown",
   "metadata": {},
   "source": [
    "# 2. The Binding Polynomial\n",
    "\n",
    "In the previous notebook we introduced the binary vector notation for site-specific states.  \n",
    "\n",
    "Now we put this together with a non-redundant and hierarchical parameterization of the equilibrium constants to obtain a site-specific binding polynomial for a given set of states. "
   ]
  },
  {
   "cell_type": "markdown",
   "metadata": {},
   "source": [
    "## Expression of each state\n",
    "\n",
    "In order to utilize the binding polynomial we need to specify the concentration of each state in terms of the concentration of the unliganded state (the reference state), the concentration of free ligand, and the thermodynamic parameters (equilibrium constants). \n",
    "\n",
    "We use a hierarchical non-redundant parameterization for the equilibrium constants. This, combined with the binary notation yields the following expression for a liganded state, represented by the binary vector, $\\mathbf{B}$, yields the following expression:\n",
    "\n",
    "$$\n",
    "[M_\\mathbf{B}] = \\prod_{\n",
    "\\substack{\\mathbf{b} \\\\ \n",
    "\\forall B_j=0,b_j=0 \\\\\n",
    "\\forall B_j=1,b_j\\in\\{0,1\\}}}\n",
    "f(\\mathbf{b})\n",
    "$$\n",
    "\n",
    "$$ \n",
    "f(\\mathbf{b}) = \\begin{cases}\n",
    "[M_\\mathbf{0}] & \\sum{b_j}=0 \\\\\n",
    "K_\\mathbf{b}[L_{i}] & \\sum{b_j}=1 \\& b_i=1 \\\\\n",
    "\\alpha_\\mathbf{b} & \\sum{b_j}>1\n",
    "\\end{cases}\n",
    "$$\n",
    "\n",
    "where $[M_\\mathbf{0}]$ is the concentration of the unliganded state, $[L_i]$ is the concentration of free ligand for site $i$, and $K_\\mathbf{b}$ and $\\alpha_\\mathbf{b}$ are the equilibrium constants.\n",
    "\n",
    "This equation is coded below.\n",
    "\n",
    "*If the notebook is being used interactively, the user may wish to try  specify different binary vectors (*`B`*) below:*"
   ]
  },
  {
   "cell_type": "code",
   "execution_count": 4,
   "metadata": {},
   "outputs": [
    {
     "data": {
      "text/latex": [
       "$\\displaystyle [M_{1010}] = \\alpha_{1010}K_{1000}[L_{1}]K_{0010}[L_{3}][M_{0000}]$"
      ],
      "text/plain": [
       "<IPython.core.display.Math object>"
      ]
     },
     "metadata": {},
     "output_type": "display_data"
    }
   ],
   "source": [
    "B = '1010'    # EDIT THIS\n",
    "\n",
    "from IPython.display import display, Math\n",
    "import itertools\n",
    "import re\n",
    "\n",
    "def f_b(b):\n",
    "    '''\n",
    "    The function 'f(B)' for determining the equilibrium constants\n",
    "    based on an binary vector state, b\n",
    "    '''\n",
    "    if(b.count('1')==0):\n",
    "        return ''\n",
    "    elif(b.count('1')==1):\n",
    "        i = b.find('1')+1\n",
    "        return 'K_{{{}}}[L_{{{}}}]'.format(b,i)\n",
    "    elif(B.count('1')>1):\n",
    "        return '\\\\alpha_{{{}}}'.format(b)\n",
    "\n",
    "# determine the number of occupied sites\n",
    "# which will take on values of 0 or 1 in the product\n",
    "n_occ = B.count('1')\n",
    "\n",
    "# find the indices of the occupied sites\n",
    "indices = [m.start() for m in re.finditer('0',B)]\n",
    "\n",
    "# find all the sub-states for the given number of occupied sites\n",
    "B_sub = [''.join(seq) for seq in \n",
    "              itertools.product('01', repeat=n_occ)]\n",
    "B_sub.reverse()\n",
    "\n",
    "# iterate through the sub-states and put these in the product\n",
    "prod = ''\n",
    "for sub in B_sub:\n",
    "    # add in the unoccupied sites\n",
    "    for i,index in enumerate(indices):\n",
    "        sub = sub[:index]+'0'+sub[index:]\n",
    "    prod = prod + f_b(sub)\n",
    "\n",
    "# print the equation in nice format\n",
    "print_eq = ('[M_{{{}}}] = '.format(B)\n",
    "            +prod\n",
    "            +'[M_{{{}}}]'.format('0'*len(B)))\n",
    "display(Math(print_eq))"
   ]
  },
  {
   "cell_type": "markdown",
   "metadata": {},
   "source": [
    "## Binding polynomial\n",
    "\n",
    "As the binding polynomial is defined as the summation of the concentration of each state, we are now in a position to compute the binding polynomial.\n",
    "\n",
    "The code below generates the binding polynomial for a complete site-specific model with a defined number of sites. \n",
    "\n",
    "*If the notebook is being used interactively, the user may wish to try different integer values for the number of sites (*`n_sites`*).*"
   ]
  },
  {
   "cell_type": "code",
   "execution_count": 20,
   "metadata": {},
   "outputs": [
    {
     "data": {
      "text/latex": [
       "$\\displaystyle [M_{0000}](1 + K_{1000}[L_{1}] + K_{0100}[L_{2}] + K_{0010}[L_{3}] + K_{0001}[L_{4}] + \\alpha_{1100}K_{1000}[L_{1}]K_{0100}[L_{2}] + \\alpha_{1010}K_{1000}[L_{1}]K_{0010}[L_{3}] + \\alpha_{1001}K_{1000}[L_{1}]K_{0001}[L_{4}] + \\alpha_{0110}K_{0100}[L_{2}]K_{0010}[L_{3}] + \\alpha_{0101}K_{0100}[L_{2}]K_{0001}[L_{4}] + \\alpha_{0011}K_{0010}[L_{3}]K_{0001}[L_{4}] + \\alpha_{1110}\\alpha_{1100}\\alpha_{1010}K_{1000}[L_{1}]\\alpha_{0110}K_{0100}[L_{2}]K_{0010}[L_{3}] + \\alpha_{1101}\\alpha_{1100}\\alpha_{1001}K_{1000}[L_{1}]\\alpha_{0101}K_{0100}[L_{2}]K_{0001}[L_{4}] + \\alpha_{1011}\\alpha_{1010}\\alpha_{1001}K_{1000}[L_{1}]\\alpha_{0011}K_{0010}[L_{3}]K_{0001}[L_{4}] + \\alpha_{0111}\\alpha_{0110}\\alpha_{0101}K_{0100}[L_{2}]\\alpha_{0011}K_{0010}[L_{3}]K_{0001}[L_{4}] + \\alpha_{1111}\\alpha_{1110}\\alpha_{1101}\\alpha_{1100}\\alpha_{1011}\\alpha_{1010}\\alpha_{1001}K_{1000}[L_{1}]\\alpha_{0111}\\alpha_{0110}\\alpha_{0101}K_{0100}[L_{2}]\\alpha_{0011}K_{0010}[L_{3}]K_{0001}[L_{4}])$"
      ],
      "text/plain": [
       "<IPython.core.display.Math object>"
      ]
     },
     "metadata": {},
     "output_type": "display_data"
    }
   ],
   "source": [
    "n_sites = 4   # EDIT THIS\n",
    "\n",
    "from IPython.display import display, Math\n",
    "import itertools\n",
    "import re\n",
    "\n",
    "all_states = [''.join(seq) for seq in \n",
    "              itertools.product('01', repeat=n_sites)]\n",
    "\n",
    "grouped_states = [[] for i in range(n_sites+1)] # initialize list\n",
    "\n",
    "for state in all_states:                        # count number\n",
    "    n_ligands = state.count('1')                # of occupied sites\n",
    "    grouped_states[n_ligands].append(state)\n",
    "\n",
    "[i.reverse() for i in grouped_states]           # swap order\n",
    "\n",
    "bp = '[M_{{{}}}](1 + '.format(all_states[0])\n",
    "for cluster in grouped_states[1:]:\n",
    "    for B in cluster:\n",
    "        # determine the number of occupied sites for the state\n",
    "        # which will take on values of 0 or 1 in the product\n",
    "        n_occ = B.count('1')\n",
    "        \n",
    "        # find the indices of the occupied sites\n",
    "        indices = [m.start() for m in re.finditer('0',B)]\n",
    "        \n",
    "        # find all the sub-states for the given number of occupied sites\n",
    "        b_sub = [''.join(seq) for seq in \n",
    "                      itertools.product('01', repeat=n_occ)]\n",
    "        b_sub.reverse()\n",
    "        \n",
    "        # iterate through the sub-states and put these in the product\n",
    "        for sub in b_sub:\n",
    "            # add in the unoccupied sites\n",
    "            for i,index in enumerate(indices):\n",
    "                sub = sub[:index]+'0'+sub[index:]\n",
    "            bp = bp + f_b(sub)\n",
    "        \n",
    "        # add each state\n",
    "        bp = bp + ' + '\n",
    "    \n",
    "# finishing touches on the binding polynomial\n",
    "bp = bp[:-3] + ')'\n",
    "# print the binding polynomial in reasonably nice format\n",
    "display(Math(bp))"
   ]
  }
 ],
 "metadata": {
  "kernelspec": {
   "display_name": "Python 3",
   "language": "python",
   "name": "python3"
  },
  "language_info": {
   "codemirror_mode": {
    "name": "ipython",
    "version": 3
   },
   "file_extension": ".py",
   "mimetype": "text/x-python",
   "name": "python",
   "nbconvert_exporter": "python",
   "pygments_lexer": "ipython3",
   "version": "3.7.1"
  }
 },
 "nbformat": 4,
 "nbformat_minor": 2
}
